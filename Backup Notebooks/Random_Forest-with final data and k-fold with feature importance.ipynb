{
 "cells": [
  {
   "cell_type": "code",
   "execution_count": 1,
   "id": "bf45e631-67c5-4f01-a704-326126889246",
   "metadata": {},
   "outputs": [],
   "source": [
    "import pandas as pd\n",
    "import numpy as np\n",
    "import gc\n",
    "from sklearn.ensemble import RandomForestClassifier\n",
    "from sklearn.model_selection import GroupKFold\n",
    "from sklearn.metrics import classification_report, roc_auc_score, confusion_matrix\n",
    "from sklearn.preprocessing import StandardScaler\n",
    "from sklearn.pipeline import Pipeline\n",
    "from tqdm import tqdm"
   ]
  },
  {
   "cell_type": "code",
   "execution_count": 2,
   "id": "ed5db770-ef45-482e-ae5d-858daa62a656",
   "metadata": {},
   "outputs": [],
   "source": [
    "train = pd.read_parquet(\"processed/final_dataset.parquet\")"
   ]
  },
  {
   "cell_type": "code",
   "execution_count": 3,
   "id": "e2be55b2-b283-4ed7-a2fe-b7e9dbce076f",
   "metadata": {},
   "outputs": [
    {
     "data": {
      "text/plain": [
       "23060846"
      ]
     },
     "execution_count": 3,
     "metadata": {},
     "output_type": "execute_result"
    }
   ],
   "source": [
    "len(train)\n"
   ]
  },
  {
   "cell_type": "code",
   "execution_count": 4,
   "id": "0d8d11eb-736d-4869-aefe-d784bcb388a4",
   "metadata": {},
   "outputs": [],
   "source": [
    "def make_features(df):\n",
    "    df['timestamp'] = pd.to_datetime(df['timestamp']).apply(lambda t: t.tz_localize(None))\n",
    "    df[\"hour\"] = df[\"timestamp\"].dt.hour\n",
    "    \n",
    "    periods = 20\n",
    "    df[\"anglez\"] = abs(df[\"anglez\"])\n",
    "    df[\"anglez_diff\"] = df.groupby('series_id')['anglez'].diff(periods=periods).fillna(method=\"bfill\").astype('float16')\n",
    "    df[\"enmo_diff\"] = df.groupby('series_id')['enmo'].diff(periods=periods).fillna(method=\"bfill\").astype('float16')\n",
    "    df[\"anglez_rolling_mean\"] = df[\"anglez\"].rolling(periods,center=True).mean().fillna(method=\"bfill\").fillna(method=\"ffill\").astype('float16')\n",
    "    df[\"enmo_rolling_mean\"] = df[\"enmo\"].rolling(periods,center=True).mean().fillna(method=\"bfill\").fillna(method=\"ffill\").astype('float16')\n",
    "    df[\"anglez_rolling_max\"] = df[\"anglez\"].rolling(periods,center=True).max().fillna(method=\"bfill\").fillna(method=\"ffill\").astype('float16')\n",
    "    df[\"enmo_rolling_max\"] = df[\"enmo\"].rolling(periods,center=True).max().fillna(method=\"bfill\").fillna(method=\"ffill\").astype('float16')\n",
    "    df[\"anglez_rolling_std\"] = df[\"anglez\"].rolling(periods,center=True).std().fillna(method=\"bfill\").fillna(method=\"ffill\").astype('float16')\n",
    "    df[\"enmo_rolling_std\"] = df[\"enmo\"].rolling(periods,center=True).std().fillna(method=\"bfill\").fillna(method=\"ffill\").astype('float16')\n",
    "    df[\"anglez_diff_rolling_mean\"] = df[\"anglez_diff\"].rolling(periods,center=True).mean().fillna(method=\"bfill\").fillna(method=\"ffill\").astype('float16')\n",
    "    df[\"enmo_diff_rolling_mean\"] = df[\"enmo_diff\"].rolling(periods,center=True).mean().fillna(method=\"bfill\").fillna(method=\"ffill\").astype('float16')\n",
    "    df[\"anglez_diff_rolling_max\"] = df[\"anglez_diff\"].rolling(periods,center=True).max().fillna(method=\"bfill\").fillna(method=\"ffill\").astype('float16')\n",
    "    df[\"enmo_diff_rolling_max\"] = df[\"enmo_diff\"].rolling(periods,center=True).max().fillna(method=\"bfill\").fillna(method=\"ffill\").astype('float16')\n",
    "    \n",
    "    return df\n",
    "\n",
    "features = [\"hour\",\n",
    "            \"anglez\",\n",
    "            \"anglez_rolling_mean\",\n",
    "            \"anglez_rolling_max\",\n",
    "            \"anglez_rolling_std\",\n",
    "            \"anglez_diff\",\n",
    "            \"anglez_diff_rolling_mean\",\n",
    "            \"anglez_diff_rolling_max\",\n",
    "            \"enmo\",\n",
    "            \"enmo_rolling_mean\",\n",
    "            \"enmo_rolling_max\",\n",
    "            \"enmo_rolling_std\",\n",
    "            \"enmo_diff\",\n",
    "            \"enmo_diff_rolling_mean\",\n",
    "            \"enmo_diff_rolling_max\"]\n"
   ]
  },
  {
   "cell_type": "code",
   "execution_count": 5,
   "id": "c1b15634-d905-4c23-b9b8-a8edc89aa8e7",
   "metadata": {},
   "outputs": [
    {
     "name": "stderr",
     "output_type": "stream",
     "text": [
      "/tmp/ipykernel_2866/747472510.py:7: FutureWarning: Series.fillna with 'method' is deprecated and will raise in a future version. Use obj.ffill() or obj.bfill() instead.\n",
      "  df[\"anglez_diff\"] = df.groupby('series_id')['anglez'].diff(periods=periods).fillna(method=\"bfill\").astype('float16')\n",
      "/tmp/ipykernel_2866/747472510.py:8: FutureWarning: Series.fillna with 'method' is deprecated and will raise in a future version. Use obj.ffill() or obj.bfill() instead.\n",
      "  df[\"enmo_diff\"] = df.groupby('series_id')['enmo'].diff(periods=periods).fillna(method=\"bfill\").astype('float16')\n",
      "/tmp/ipykernel_2866/747472510.py:9: FutureWarning: Series.fillna with 'method' is deprecated and will raise in a future version. Use obj.ffill() or obj.bfill() instead.\n",
      "  df[\"anglez_rolling_mean\"] = df[\"anglez\"].rolling(periods,center=True).mean().fillna(method=\"bfill\").fillna(method=\"ffill\").astype('float16')\n",
      "/tmp/ipykernel_2866/747472510.py:10: FutureWarning: Series.fillna with 'method' is deprecated and will raise in a future version. Use obj.ffill() or obj.bfill() instead.\n",
      "  df[\"enmo_rolling_mean\"] = df[\"enmo\"].rolling(periods,center=True).mean().fillna(method=\"bfill\").fillna(method=\"ffill\").astype('float16')\n",
      "/tmp/ipykernel_2866/747472510.py:11: FutureWarning: Series.fillna with 'method' is deprecated and will raise in a future version. Use obj.ffill() or obj.bfill() instead.\n",
      "  df[\"anglez_rolling_max\"] = df[\"anglez\"].rolling(periods,center=True).max().fillna(method=\"bfill\").fillna(method=\"ffill\").astype('float16')\n",
      "/tmp/ipykernel_2866/747472510.py:12: FutureWarning: Series.fillna with 'method' is deprecated and will raise in a future version. Use obj.ffill() or obj.bfill() instead.\n",
      "  df[\"enmo_rolling_max\"] = df[\"enmo\"].rolling(periods,center=True).max().fillna(method=\"bfill\").fillna(method=\"ffill\").astype('float16')\n",
      "/tmp/ipykernel_2866/747472510.py:13: FutureWarning: Series.fillna with 'method' is deprecated and will raise in a future version. Use obj.ffill() or obj.bfill() instead.\n",
      "  df[\"anglez_rolling_std\"] = df[\"anglez\"].rolling(periods,center=True).std().fillna(method=\"bfill\").fillna(method=\"ffill\").astype('float16')\n",
      "/tmp/ipykernel_2866/747472510.py:14: FutureWarning: Series.fillna with 'method' is deprecated and will raise in a future version. Use obj.ffill() or obj.bfill() instead.\n",
      "  df[\"enmo_rolling_std\"] = df[\"enmo\"].rolling(periods,center=True).std().fillna(method=\"bfill\").fillna(method=\"ffill\").astype('float16')\n",
      "/tmp/ipykernel_2866/747472510.py:15: FutureWarning: Series.fillna with 'method' is deprecated and will raise in a future version. Use obj.ffill() or obj.bfill() instead.\n",
      "  df[\"anglez_diff_rolling_mean\"] = df[\"anglez_diff\"].rolling(periods,center=True).mean().fillna(method=\"bfill\").fillna(method=\"ffill\").astype('float16')\n",
      "/tmp/ipykernel_2866/747472510.py:16: FutureWarning: Series.fillna with 'method' is deprecated and will raise in a future version. Use obj.ffill() or obj.bfill() instead.\n",
      "  df[\"enmo_diff_rolling_mean\"] = df[\"enmo_diff\"].rolling(periods,center=True).mean().fillna(method=\"bfill\").fillna(method=\"ffill\").astype('float16')\n",
      "/tmp/ipykernel_2866/747472510.py:17: FutureWarning: Series.fillna with 'method' is deprecated and will raise in a future version. Use obj.ffill() or obj.bfill() instead.\n",
      "  df[\"anglez_diff_rolling_max\"] = df[\"anglez_diff\"].rolling(periods,center=True).max().fillna(method=\"bfill\").fillna(method=\"ffill\").astype('float16')\n",
      "/tmp/ipykernel_2866/747472510.py:18: FutureWarning: Series.fillna with 'method' is deprecated and will raise in a future version. Use obj.ffill() or obj.bfill() instead.\n",
      "  df[\"enmo_diff_rolling_max\"] = df[\"enmo_diff\"].rolling(periods,center=True).max().fillna(method=\"bfill\").fillna(method=\"ffill\").astype('float16')\n"
     ]
    }
   ],
   "source": [
    "train = make_features(train)\n",
    "\n",
    "X = train[features]\n",
    "y = train[\"awake\"]\n",
    "groups = train[\"series_id\"]"
   ]
  },
  {
   "cell_type": "code",
   "execution_count": 6,
   "id": "805ff900-6251-4e1f-81f7-60d387d444f6",
   "metadata": {},
   "outputs": [
    {
     "name": "stdout",
     "output_type": "stream",
     "text": [
      "\n",
      "🔁 Fold 1\n",
      "📈 Precision: 0.9743 | Recall: 0.9596 | F1: 0.9669 | AP: 0.9944\n",
      "\n",
      "🔁 Fold 2\n",
      "📈 Precision: 0.9787 | Recall: 0.9580 | F1: 0.9682 | AP: 0.9939\n",
      "\n",
      "🔁 Fold 3\n",
      "📈 Precision: 0.9701 | Recall: 0.9700 | F1: 0.9700 | AP: 0.9949\n",
      "\n",
      "🔁 Fold 4\n",
      "📈 Precision: 0.9708 | Recall: 0.9661 | F1: 0.9684 | AP: 0.9950\n",
      "\n",
      "🔁 Fold 5\n",
      "📈 Precision: 0.9762 | Recall: 0.9534 | F1: 0.9646 | AP: 0.9936\n",
      "\n",
      "📊 Fold-wise metrics:\n",
      "    fold  precision    recall  f1_score  average_precision\n",
      "0     1   0.974266  0.959600  0.966878           0.994445\n",
      "1     2   0.978711  0.957973  0.968231           0.993853\n",
      "2     3   0.970145  0.969954  0.970049           0.994878\n",
      "3     4   0.970787  0.966078  0.968427           0.994986\n",
      "4     5   0.976156  0.953411  0.964649           0.993578\n",
      "\n",
      "🔍 Mean Average Precision: 0.9943\n",
      "\n",
      "🔥 Feature Importances:\n",
      "                      feature  importance\n",
      "4         anglez_rolling_std    0.191679\n",
      "0                       hour    0.184989\n",
      "14     enmo_diff_rolling_max    0.147039\n",
      "11          enmo_rolling_std    0.137997\n",
      "7    anglez_diff_rolling_max    0.110651\n",
      "9          enmo_rolling_mean    0.075439\n",
      "10          enmo_rolling_max    0.057890\n",
      "8                       enmo    0.021557\n",
      "2        anglez_rolling_mean    0.017790\n",
      "13    enmo_diff_rolling_mean    0.015607\n",
      "12                 enmo_diff    0.015309\n",
      "3         anglez_rolling_max    0.007834\n",
      "1                     anglez    0.007291\n",
      "5                anglez_diff    0.005927\n",
      "6   anglez_diff_rolling_mean    0.003000\n"
     ]
    }
   ],
   "source": [
    "from sklearn.ensemble import RandomForestClassifier\n",
    "from sklearn.model_selection import GroupKFold\n",
    "from sklearn.metrics import precision_score, recall_score, f1_score, average_precision_score\n",
    "import numpy as np\n",
    "import pandas as pd\n",
    "\n",
    "n_splits = 5\n",
    "gkf = GroupKFold(n_splits=n_splits)\n",
    "\n",
    "oof_preds = np.zeros(len(X))\n",
    "oof_preds_not_awake = np.zeros(len(X))\n",
    "feature_importances = np.zeros(X.shape[1])\n",
    "\n",
    "# Optional: speichern der Metriken pro Fold\n",
    "fold_metrics = []\n",
    "\n",
    "for fold, (train_idx, val_idx) in enumerate(gkf.split(X, y, groups=groups)):\n",
    "    print(f\"\\n🔁 Fold {fold + 1}\")\n",
    "\n",
    "    X_tr, y_tr = X.iloc[train_idx], y.iloc[train_idx]\n",
    "    X_val, y_val = X.iloc[val_idx], y.iloc[val_idx]\n",
    "\n",
    "    # Modell trainieren\n",
    "    model = RandomForestClassifier(\n",
    "        n_estimators=100,\n",
    "        min_samples_leaf=300,\n",
    "        random_state=42,\n",
    "        n_jobs=-1\n",
    "    )\n",
    "    model.fit(X_tr, y_tr)\n",
    "\n",
    "    # Vorhersagen\n",
    "    probs = model.predict_proba(X_val)\n",
    "    preds = model.predict(X_val)\n",
    "\n",
    "    oof_preds[val_idx] = probs[:, 1]             # awake-Wahrscheinlichkeit\n",
    "    oof_preds_not_awake[val_idx] = probs[:, 0]   # nicht-awake\n",
    "\n",
    "    # Metriken\n",
    "    precision = precision_score(y_val, preds)\n",
    "    recall = recall_score(y_val, preds)\n",
    "    f1 = f1_score(y_val, preds)\n",
    "    ap = average_precision_score(y_val, probs[:, 1])\n",
    "\n",
    "    fold_metrics.append({\n",
    "        'fold': fold + 1,\n",
    "        'precision': precision,\n",
    "        'recall': recall,\n",
    "        'f1_score': f1,\n",
    "        'average_precision': ap\n",
    "    })\n",
    "\n",
    "    print(f\"📈 Precision: {precision:.4f} | Recall: {recall:.4f} | F1: {f1:.4f} | AP: {ap:.4f}\")\n",
    "\n",
    "    # Feature Importances aufsummieren\n",
    "    feature_importances += model.feature_importances_\n",
    "\n",
    "# Feature-Importance Mittelwert über Folds\n",
    "avg_importances = feature_importances / n_splits\n",
    "importance_df = pd.DataFrame({\n",
    "    'feature': X.columns,\n",
    "    'importance': avg_importances\n",
    "}).sort_values(by='importance', ascending=False)\n",
    "\n",
    "# Metriken zusammenfassen\n",
    "metrics_df = pd.DataFrame(fold_metrics)\n",
    "print(\"\\n📊 Fold-wise metrics:\\n\", metrics_df)\n",
    "print(f\"\\n🔍 Mean Average Precision: {metrics_df['average_precision'].mean():.4f}\")\n",
    "\n",
    "print(\"\\n🔥 Feature Importances:\\n\", importance_df)"
   ]
  },
  {
   "cell_type": "code",
   "execution_count": 7,
   "id": "6dfdf30b-3a0c-4a04-b037-5978ea0c4cc1",
   "metadata": {},
   "outputs": [
    {
     "data": {
      "image/png": "[encoded data removed]",
      "text/plain": [
       "<Figure size 1000x600 with 1 Axes>"
      ]
     },
     "metadata": {},
     "output_type": "display_data"
    }
   ],
   "source": [
    "import pandas as pd\n",
    "import matplotlib.pyplot as plt\n",
    "# Nur einmalig am Ende des letzten Folds oder außerhalb der Schleife\n",
    "importances = model.feature_importances_\n",
    "feature_names = X.columns  # oder X_train.columns\n",
    "\n",
    "# In DataFrame\n",
    "feat_df = pd.DataFrame({\n",
    "    \"feature\": feature_names,\n",
    "    \"importance\": importances\n",
    "}).sort_values(by=\"importance\", ascending=False)\n",
    "\n",
    "# Anzeige\n",
    "plt.figure(figsize=(10, 6))\n",
    "plt.barh(feat_df[\"feature\"], feat_df[\"importance\"])\n",
    "plt.gca().invert_yaxis()\n",
    "plt.title(\"Feature Importances (letzter Fold)\")\n",
    "plt.show()"
   ]
  },
  {
   "cell_type": "code",
   "execution_count": 8,
   "id": "dbe33e2f-412c-4ba5-885b-de4c557bf730",
   "metadata": {},
   "outputs": [
    {
     "ename": "NameError",
     "evalue": "name 'feat_imp' is not defined",
     "output_type": "error",
     "traceback": [
      "\u001b[0;31m---------------------------------------------------------------------------\u001b[0m",
      "\u001b[0;31mNameError\u001b[0m                                 Traceback (most recent call last)",
      "Cell \u001b[0;32mIn[8], line 2\u001b[0m\n\u001b[1;32m      1\u001b[0m plt\u001b[38;5;241m.\u001b[39mfigure(figsize\u001b[38;5;241m=\u001b[39m(\u001b[38;5;241m10\u001b[39m, \u001b[38;5;241m6\u001b[39m))\n\u001b[0;32m----> 2\u001b[0m plt\u001b[38;5;241m.\u001b[39mbarh(\u001b[43mfeat_imp\u001b[49m[\u001b[38;5;124m'\u001b[39m\u001b[38;5;124mfeature\u001b[39m\u001b[38;5;124m'\u001b[39m], feat_imp[\u001b[38;5;124m'\u001b[39m\u001b[38;5;124mimportance\u001b[39m\u001b[38;5;124m'\u001b[39m])\n\u001b[1;32m      3\u001b[0m plt\u001b[38;5;241m.\u001b[39mgca()\u001b[38;5;241m.\u001b[39minvert_yaxis()\n\u001b[1;32m      4\u001b[0m plt\u001b[38;5;241m.\u001b[39mtitle(\u001b[38;5;124m\"\u001b[39m\u001b[38;5;124mFeature Importances\u001b[39m\u001b[38;5;124m\"\u001b[39m)\n",
      "\u001b[0;31mNameError\u001b[0m: name 'feat_imp' is not defined"
     ]
    },
    {
     "data": {
      "text/plain": [
       "<Figure size 1000x600 with 0 Axes>"
      ]
     },
     "metadata": {},
     "output_type": "display_data"
    }
   ],
   "source": [
    "plt.figure(figsize=(10, 6))\n",
    "plt.barh(feat_imp['feature'], feat_imp['importance'])\n",
    "plt.gca().invert_yaxis()\n",
    "plt.title(\"Feature Importances\")\n",
    "plt.xlabel(\"Importance\")\n",
    "plt.tight_layout()\n",
    "plt.show()"
   ]
  },
  {
   "cell_type": "code",
   "execution_count": 9,
   "id": "b563fdf6-4e11-47fe-bd80-0ffcb0bbb981",
   "metadata": {},
   "outputs": [
    {
     "name": "stderr",
     "output_type": "stream",
     "text": [
      "/tmp/ipykernel_2866/1157157083.py:7: FutureWarning: Series.fillna with 'method' is deprecated and will raise in a future version. Use obj.ffill() or obj.bfill() instead.\n",
      "  train[\"score\"]  = train[\"awake\"].rolling(smoothing_length,center=True).mean().fillna(method=\"bfill\").fillna(method=\"ffill\")\n",
      "/tmp/ipykernel_2866/1157157083.py:8: FutureWarning: Series.fillna with 'method' is deprecated and will raise in a future version. Use obj.ffill() or obj.bfill() instead.\n",
      "  train[\"smooth\"] = train[\"not_awake\"].rolling(smoothing_length,center=True).mean().fillna(method=\"bfill\").fillna(method=\"ffill\")\n"
     ]
    }
   ],
   "source": [
    "\n",
    "\n",
    "\n",
    "train[\"awake\"] = oof_preds\n",
    "train[\"not_awake\"] = oof_preds_not_awake\n",
    "\n",
    "\n",
    "# Smoothing the predictions\n",
    "smoothing_length = 2*230\n",
    "train[\"score\"]  = train[\"awake\"].rolling(smoothing_length,center=True).mean().fillna(method=\"bfill\").fillna(method=\"ffill\")\n",
    "train[\"smooth\"] = train[\"not_awake\"].rolling(smoothing_length,center=True).mean().fillna(method=\"bfill\").fillna(method=\"ffill\")\n",
    "\n",
    "# Re-binarize the smooth values\n",
    "train[\"smooth\"] = train[\"smooth\"].round()"
   ]
  },
  {
   "cell_type": "code",
   "execution_count": 10,
   "id": "cd6a550d-1404-477a-9d1a-2c64e670001a",
   "metadata": {},
   "outputs": [],
   "source": [
    "\n",
    "# Define the function to determine the onset and wakeup events\n",
    "def get_event(df):\n",
    "    lstCV = zip(df.series_id, df.smooth)\n",
    "    lstPOI = []\n",
    "    for (c, v), g in groupby(lstCV, lambda cv: (cv[0], cv[1] != 0 and not pd.isnull(cv[1]))):\n",
    "        llg = sum(1 for item in g)\n",
    "        if v is False:\n",
    "            lstPOI.extend([0] * llg)\n",
    "        else:\n",
    "            lstPOI.extend(['onset'] + (llg - 2) * [0] + ['wakeup'] if llg > 1 else [0])\n",
    "    return lstPOI\n"
   ]
  },
  {
   "cell_type": "code",
   "execution_count": 11,
   "id": "4b34f1c2-cc87-417e-ad59-84584e887480",
   "metadata": {},
   "outputs": [],
   "source": [
    "from itertools import groupby"
   ]
  },
  {
   "cell_type": "code",
   "execution_count": 12,
   "id": "b6aa3678-0dd6-4d8f-82ee-7b6b340fa3b5",
   "metadata": {},
   "outputs": [
    {
     "name": "stdout",
     "output_type": "stream",
     "text": [
      "\n",
      "✅ Sleep events for training data saved under: result_events.csv\n"
     ]
    }
   ],
   "source": [
    "\n",
    "train[\"event\"] = get_event(train)\n",
    "\n",
    "# Save the events for inspection\n",
    "train_events = train.loc[train[\"event\"] != 0][[\"series_id\", \"step\", \"event\", \"score\"]].copy().reset_index(drop=True)\n",
    "train_events.to_csv('result_events.csv', index=False)\n",
    "\n",
    "print(\"\\n✅ Sleep events for training data saved under: result_events.csv\")"
   ]
  },
  {
   "cell_type": "code",
   "execution_count": 13,
   "id": "3123ea45-1a10-489f-b39b-da68ecb67a8f",
   "metadata": {},
   "outputs": [
    {
     "name": "stdout",
     "output_type": "stream",
     "text": [
      "       series_id    step   event     score\n",
      "0   08db4255286f    9249   onset  0.498496\n",
      "1   08db4255286f   14425  wakeup  0.499100\n",
      "2   08db4255286f   26519   onset  0.498879\n",
      "3   08db4255286f   27925  wakeup  0.499626\n",
      "4   08db4255286f   28075   onset  0.499313\n",
      "5   08db4255286f   31347  wakeup  0.498785\n",
      "6   08db4255286f   44161   onset  0.499667\n",
      "7   08db4255286f   49111  wakeup  0.499890\n",
      "8   08db4255286f   60301   onset  0.498486\n",
      "9   08db4255286f   66363  wakeup  0.498280\n",
      "10  08db4255286f   79142   onset  0.498899\n",
      "11  08db4255286f   85342  wakeup  0.497954\n",
      "12  08db4255286f   97975   onset  0.499361\n",
      "13  08db4255286f   98300  wakeup  0.498870\n",
      "14  08db4255286f   98637   onset  0.499851\n",
      "15  08db4255286f  104083  wakeup  0.499836\n",
      "16  08db4255286f  114162   onset  0.498551\n",
      "17  08db4255286f  118832  wakeup  0.499912\n",
      "18  08db4255286f  130529   onset  0.498423\n",
      "19  08db4255286f  136302  wakeup  0.498106\n",
      "20  08db4255286f  147508   onset  0.499130\n",
      "21  08db4255286f  153418  wakeup  0.498553\n",
      "22  08db4255286f  165690   onset  0.499192\n",
      "23  08db4255286f  165844  wakeup  0.499907\n",
      "24  08db4255286f  166077   onset  0.498864\n",
      "25  08db4255286f  170735  wakeup  0.499238\n",
      "26  08db4255286f  182478   onset  0.499657\n",
      "27  08db4255286f  190365  wakeup  0.499968\n",
      "28  08db4255286f  190426   onset  0.499758\n",
      "29  08db4255286f  190809  wakeup  0.499750\n"
     ]
    }
   ],
   "source": [
    "import pandas as pd\n",
    "\n",
    "# Load the train events CSV file into a DataFrame\n",
    "train_events = pd.read_csv('result_events.csv')\n",
    "\n",
    "# Display the first few rows to check the data\n",
    "print(train_events.head(30))"
   ]
  },
  {
   "cell_type": "code",
   "execution_count": 14,
   "id": "80373f34-203d-4ebb-8d14-1392a68908d3",
   "metadata": {},
   "outputs": [
    {
     "name": "stdout",
     "output_type": "stream",
     "text": [
      "Results saved to 'valid_pairs_predictions.csv'.\n"
     ]
    }
   ],
   "source": [
    "df = pd.DataFrame(train_events)\n",
    "\n",
    "# Set a threshold for valid pairings (step difference > 15000 is invalid)\n",
    "step_diff_min_threshold = 2000\n",
    "\n",
    "# Sort by series_id and step\n",
    "df = df.sort_values(by=['series_id', 'step'])\n",
    "\n",
    "# Initialize a list to store valid event pairs\n",
    "valid_pairs = []\n",
    "\n",
    "# Iterate through each unique series_id and match onsets and wakeups\n",
    "for series_id in df['series_id'].unique():\n",
    "    series_data = df[df['series_id'] == series_id]\n",
    "    \n",
    "    onset_event = None\n",
    "    for index, row in series_data.iterrows():\n",
    "        if row['event'] == 'onset':\n",
    "            onset_event = row\n",
    "        elif row['event'] == 'wakeup' and onset_event is not None:\n",
    "            # Ensure the step difference between onset and wakeup is above the minimum threshold\n",
    "            step_diff = abs(row['step'] - onset_event['step'])\n",
    "            if step_diff >= step_diff_min_threshold:\n",
    "                valid_pairs.append((onset_event, row))  # Add the valid pair\n",
    "            onset_event = None  # Reset for next pairing\n",
    "\n",
    "# Create a DataFrame for the valid pairs in the required format\n",
    "output_data = []\n",
    "for onset, wakeup in valid_pairs:\n",
    "    output_data.append({\n",
    "        'series_id': onset['series_id'],\n",
    "        'step': onset['step'],\n",
    "        'event': 'onset',\n",
    "        'score': onset['score']\n",
    "    })\n",
    "    output_data.append({\n",
    "        'series_id': wakeup['series_id'],\n",
    "        'step': wakeup['step'],\n",
    "        'event': 'wakeup',\n",
    "        'score': wakeup['score']\n",
    "    })\n",
    "\n",
    "# Create a DataFrame from the output data\n",
    "output_df = pd.DataFrame(output_data)\n",
    "\n",
    "# Save the results to a CSV file\n",
    "output_df.to_csv('valid_pairs_predictions.csv', index=False)\n",
    "\n",
    "print(\"Results saved to 'valid_pairs_predictions.csv'.\")"
   ]
  },
  {
   "cell_type": "code",
   "execution_count": 15,
   "id": "3ab1d0af-26b5-4291-a022-fc9bbaa5e779",
   "metadata": {},
   "outputs": [],
   "source": [
    "from event_detection_ap import score, ParticipantVisibleError"
   ]
  },
  {
   "cell_type": "code",
   "execution_count": 16,
   "id": "ef9fdb32-8c36-46c1-a9c8-8e8529ccffe8",
   "metadata": {},
   "outputs": [
    {
     "name": "stdout",
     "output_type": "stream",
     "text": [
      "\n",
      "✅ Average Precision Score: 0.4431465493999837\n"
     ]
    }
   ],
   "source": [
    "import pandas as pd\n",
    "\n",
    "\n",
    "# Load ground truth and predictions\n",
    "solution = pd.read_csv('processed/event_cleaned_final.csv')             # Ground truth\n",
    "submission = pd.read_csv('valid_pairs_predictions.csv')                      # Your predictions from train set\n",
    "\n",
    "# Define tolerances\n",
    "tolerances = {\n",
    "    \"onset\":  [12, 36, 60, 90, 120, 150, 180, 240, 300, 360],\n",
    "    \"wakeup\": [12, 36, 60, 90, 120, 150, 180, 240, 300, 360],\n",
    "}\n",
    "\n",
    "# Set correct column names used in your prediction file\n",
    "column_names = {\n",
    "    'series_id_column_name': 'series_id',\n",
    "    'time_column_name': 'step',\n",
    "    'event_column_name': 'event',\n",
    "    'score_column_name': 'score',  # You named the prediction confidence 'score'\n",
    "}\n",
    "\n",
    "# Run scoring\n",
    "try:\n",
    "    ap_score = score(solution, submission, tolerances, **column_names)\n",
    "    print(f\"\\n✅ Average Precision Score: {ap_score}\")\n",
    "except ParticipantVisibleError as e:\n",
    "    print(f\"\\n❌ Error: {e}\")"
   ]
  },
  {
   "cell_type": "code",
   "execution_count": 17,
   "id": "84b40bcd-8dd5-4c00-be4f-8860c6188512",
   "metadata": {},
   "outputs": [
    {
     "name": "stdout",
     "output_type": "stream",
     "text": [
      "🔍 Ground Truth: 62 series_ids\n",
      "🔍 Predictions : 62 series_ids\n",
      "\n",
      "📊 Ground Truth Event Counts:\n",
      "event     series_id  onset  wakeup        source\n",
      "0      08db4255286f     25      25  ground_truth\n",
      "1      0a96f4993bd7     15      15  ground_truth\n",
      "2      0cfc06c129cc     21      21  ground_truth\n",
      "3      0ef7d94fde99     21      21  ground_truth\n",
      "4      1087d7b0ff2e     24      24  ground_truth\n",
      "5      10f8bc1f7b07     23      23  ground_truth\n",
      "6      1319a1935f48     33      33  ground_truth\n",
      "7      1716cd4163b2     25      25  ground_truth\n",
      "8      18b61dd5aae8     29      29  ground_truth\n",
      "9      1955d568d987     29      29  ground_truth\n",
      "10     2654a87be968      8       8  ground_truth\n",
      "11     29c75c018220     26      26  ground_truth\n",
      "12     3452b878e596     31      31  ground_truth\n",
      "13     3664fe9233f9     22      22  ground_truth\n",
      "14     483d6545417f     17      17  ground_truth\n",
      "15     55a47ff9dc8a     23      23  ground_truth\n",
      "16     5acc9d63b5fd     24      24  ground_truth\n",
      "17     5c55a5e717d6     21      21  ground_truth\n",
      "18     5f94bb3e1bed     23      23  ground_truth\n",
      "19     655f19eabf1e     22      22  ground_truth\n",
      "20     67f5fc60e494     22      22  ground_truth\n",
      "21     6ee4ade1f2bd     23      23  ground_truth\n",
      "22     72bbd1ac3edf     22      22  ground_truth\n",
      "23     72d2234e84e4     30      30  ground_truth\n",
      "24     752900afe3a6     21      21  ground_truth\n",
      "25     76237b9406d5     24      24  ground_truth\n",
      "26     7822ee8fe3ec     24      24  ground_truth\n",
      "27     78569a801a38     12      12  ground_truth\n",
      "28     804594bb1f06     23      23  ground_truth\n",
      "29     8898e6db816d      8       8  ground_truth\n",
      "30     89bd631d1769     25      25  ground_truth\n",
      "31     8a306e0890c0     23      23  ground_truth\n",
      "32     8becc76ea607     13      13  ground_truth\n",
      "33     8e32047cbc1f     23      23  ground_truth\n",
      "34     8fb18e36697d     22      22  ground_truth\n",
      "35     91cb6c98201f     23      23  ground_truth\n",
      "36     939932f1822d     24      24  ground_truth\n",
      "37     99237ce045e4     23      23  ground_truth\n",
      "38     9aed9ee12ae2     10      10  ground_truth\n",
      "39     9ddd40f2cb36     21      21  ground_truth\n",
      "40     9ee455e4770d     22      22  ground_truth\n",
      "41     a9a2f7fac455     35      35  ground_truth\n",
      "42     a9e5f5314bcb      9       9  ground_truth\n",
      "43     af91d9a50547     24      24  ground_truth\n",
      "44     b1831c4979da     25      25  ground_truth\n",
      "45     b364205aba43     23      23  ground_truth\n",
      "46     bfa54bd26187     21      21  ground_truth\n",
      "47     bfe41e96d12f     22      22  ground_truth\n",
      "48     c535634d7dcd      8       8  ground_truth\n",
      "49     c6788e579967     23      23  ground_truth\n",
      "\n",
      "📊 Prediction Event Counts:\n",
      "event     series_id  onset  wakeup      source\n",
      "0      08db4255286f     26      26  prediction\n",
      "1      0a96f4993bd7     15      15  prediction\n",
      "2      0cfc06c129cc     21      21  prediction\n",
      "3      0ef7d94fde99     20      20  prediction\n",
      "4      1087d7b0ff2e     27      27  prediction\n",
      "5      10f8bc1f7b07     23      23  prediction\n",
      "6      1319a1935f48     33      33  prediction\n",
      "7      1716cd4163b2     25      25  prediction\n",
      "8      18b61dd5aae8     30      30  prediction\n",
      "9      1955d568d987     29      29  prediction\n",
      "10     2654a87be968      8       8  prediction\n",
      "11     29c75c018220     26      26  prediction\n",
      "12     3452b878e596     33      33  prediction\n",
      "13     3664fe9233f9     23      23  prediction\n",
      "14     483d6545417f     19      19  prediction\n",
      "15     55a47ff9dc8a     23      23  prediction\n",
      "16     5acc9d63b5fd     24      24  prediction\n",
      "17     5c55a5e717d6     21      21  prediction\n",
      "18     5f94bb3e1bed     23      23  prediction\n",
      "19     655f19eabf1e     22      22  prediction\n",
      "20     67f5fc60e494     22      22  prediction\n",
      "21     6ee4ade1f2bd     23      23  prediction\n",
      "22     72bbd1ac3edf     22      22  prediction\n",
      "23     72d2234e84e4     30      30  prediction\n",
      "24     752900afe3a6     21      21  prediction\n",
      "25     76237b9406d5     24      24  prediction\n",
      "26     7822ee8fe3ec     24      24  prediction\n",
      "27     78569a801a38     12      12  prediction\n",
      "28     804594bb1f06     23      23  prediction\n",
      "29     8898e6db816d      8       8  prediction\n",
      "30     89bd631d1769     25      25  prediction\n",
      "31     8a306e0890c0     23      23  prediction\n",
      "32     8becc76ea607     13      13  prediction\n",
      "33     8e32047cbc1f     23      23  prediction\n",
      "34     8fb18e36697d     22      22  prediction\n",
      "35     91cb6c98201f     23      23  prediction\n",
      "36     939932f1822d     24      24  prediction\n",
      "37     99237ce045e4     23      23  prediction\n",
      "38     9aed9ee12ae2     10      10  prediction\n",
      "39     9ddd40f2cb36     21      21  prediction\n",
      "40     9ee455e4770d     22      22  prediction\n",
      "41     a9a2f7fac455     35      35  prediction\n",
      "42     a9e5f5314bcb      9       9  prediction\n",
      "43     af91d9a50547     25      25  prediction\n",
      "44     b1831c4979da     25      25  prediction\n",
      "45     b364205aba43     23      23  prediction\n",
      "46     bfa54bd26187     21      21  prediction\n",
      "47     bfe41e96d12f     22      22  prediction\n",
      "48     c535634d7dcd      8       8  prediction\n",
      "49     c6788e579967     23      23  prediction\n"
     ]
    }
   ],
   "source": [
    "solution = pd.read_csv('processed/event_cleaned_final.csv')\n",
    "submission = pd.read_csv('valid_pairs_predictions.csv')\n",
    "\n",
    "# Function to count events per series_id\n",
    "def count_events(df, label):\n",
    "    counts = df[df[\"event\"].isin([\"onset\", \"wakeup\"])] \\\n",
    "                .groupby([\"series_id\", \"event\"]) \\\n",
    "                .size() \\\n",
    "                .unstack(fill_value=0) \\\n",
    "                .reset_index()\n",
    "    counts[\"source\"] = label\n",
    "    return counts\n",
    "\n",
    "# Apply to both datasets\n",
    "solution_counts = count_events(solution, \"ground_truth\")\n",
    "submission_counts = count_events(submission, \"prediction\")\n",
    "\n",
    "# Summary\n",
    "print(f\"🔍 Ground Truth: {solution['series_id'].nunique()} series_ids\")\n",
    "print(f\"🔍 Predictions : {submission['series_id'].nunique()} series_ids\\n\")\n",
    "\n",
    "print(\"📊 Ground Truth Event Counts:\")\n",
    "print(solution_counts.head(50))\n",
    "\n",
    "print(\"\\n📊 Prediction Event Counts:\")\n",
    "print(submission_counts.head(50))"
   ]
  },
  {
   "cell_type": "code",
   "execution_count": null,
   "id": "b6c1a080-0f1a-4ee5-b226-5a2c162d5806",
   "metadata": {},
   "outputs": [],
   "source": []
  },
  {
   "cell_type": "code",
   "execution_count": null,
   "id": "bfeb7237-05b2-47a0-951f-29f4fd32eb15",
   "metadata": {},
   "outputs": [],
   "source": []
  }
 ],
 "metadata": {
  "kernelspec": {
   "display_name": "Python 3 (ipykernel)",
   "language": "python",
   "name": "python3"
  },
  "language_info": {
   "codemirror_mode": {
    "name": "ipython",
    "version": 3
   },
   "file_extension": ".py",
   "mimetype": "text/x-python",
   "name": "python",
   "nbconvert_exporter": "python",
   "pygments_lexer": "ipython3",
   "version": "3.12.9"
  }
 },
 "nbformat": 4,
 "nbformat_minor": 5
}
