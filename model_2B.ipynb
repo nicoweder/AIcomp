{
 "cells": [
  {
   "cell_type": "code",
   "execution_count": 53,
   "id": "aad746f7-e084-4f77-b6a0-cc3dc82ea48a",
   "metadata": {},
   "outputs": [
    {
     "name": "stdout",
     "output_type": "stream",
     "text": [
      "📥 Loading candidates...\n",
      "🔍 Matching to nearest true event to get event labels...\n",
      "🧠 Training Model 2B (onset vs wakeup classifier)...\n",
      "✅ Validation RMSE: 0.12212\n",
      "💾 Model 2B and features saved.\n",
      "📦 Generating final submission CSV...\n",
      "✅ Final submission saved: submission_model2b.csv\n"
     ]
    }
   ],
   "source": [
    "#!/usr/bin/env python\n",
    "\n",
    "import pandas as pd\n",
    "import numpy as np\n",
    "import xgboost as xgb\n",
    "import json\n",
    "from sklearn.model_selection import train_test_split\n",
    "from sklearn.metrics import mean_squared_error\n",
    "\n",
    "# === Load Model 2A scored candidates ===\n",
    "print(\"📥 Loading candidates...\")\n",
    "candidates = pd.read_csv(\"/home/jovyan/AIcomp/results/model2a_scored_candidates.csv\")  # Path to output from Model 2A\n",
    "events = pd.read_csv(\"/home/jovyan/AIcomp/data/train_events.csv\")  # Path to true labels\n",
    "\n",
    "# === Keep only candidates close to true events (already pre-filtered normally) ===\n",
    "candidates = candidates[candidates[\"step_distance\"] <= 90].copy()\n",
    "\n",
    "# === Create binary label: onset (0) vs wakeup (1) ===\n",
    "# Use nearest event label from true events\n",
    "print(\"🔍 Matching to nearest true event to get event labels...\")\n",
    "\n",
    "event_labels = []\n",
    "for idx, row in candidates.iterrows():\n",
    "    series_id = row[\"series_id\"]\n",
    "    step = row[\"step\"]\n",
    "    # Copy to avoid SettingWithCopyWarning and ensure assignment works\n",
    "    series_events = events[events[\"series_id\"] == series_id].copy()\n",
    "    series_events[\"distance\"] = (series_events[\"step\"] - step).abs()\n",
    "    if not series_events.empty:\n",
    "        nearest = series_events.sort_values(\"distance\").iloc[0]\n",
    "        label = 0 if nearest[\"event\"] == \"onset\" else 1\n",
    "    else:\n",
    "        label = np.nan  # No label found — will be dropped\n",
    "    event_labels.append(label)\n",
    "\n",
    "candidates[\"target_event\"] = event_labels\n",
    "candidates = candidates.dropna(subset=[\"target_event\"]).copy()\n",
    "candidates[\"target_event\"] = candidates[\"target_event\"].astype(int)\n",
    "\n",
    "# === Define features to use for Model 2B ===\n",
    "features2b = [\n",
    "    \"anglez\", \"enmo\",\n",
    "    \"hour\", \"minute\", \"is_weekend\", \"is_night\",\n",
    "    \"anglez_delta\", \"anglez_lag_1\", \"enmo_lag_1\",\n",
    "    \"anglez_mean_60s\", \"enmo_mean_60s\",\n",
    "    \"enmo_cumulative_60s\", \"enmo_sma_60s\",\n",
    "    \"enmo_mean_12s_lag_1\", \"anglez_std_60s_lag_1\"\n",
    "]\n",
    "\n",
    "# === Prepare data ===\n",
    "X = candidates[features2b].astype(np.float32)\n",
    "y = candidates[\"target_event\"]\n",
    "\n",
    "# === Train/validation split ===\n",
    "X_train, X_val, y_train, y_val = train_test_split(\n",
    "    X, y, test_size=0.2, random_state=42, stratify=y\n",
    ")\n",
    "\n",
    "# === Define Model 2B ===\n",
    "model2b = xgb.XGBClassifier(\n",
    "    objective=\"binary:logistic\",\n",
    "    n_estimators=100,\n",
    "    max_depth=5,\n",
    "    learning_rate=0.1,\n",
    "    subsample=0.8,\n",
    "    colsample_bytree=0.8,\n",
    "    random_state=42,\n",
    "    eval_metric=\"logloss\"\n",
    ")\n",
    "\n",
    "# === Train Model 2B ===\n",
    "print(\"🧠 Training Model 2B (onset vs wakeup classifier)...\")\n",
    "model2b.fit(X_train, y_train)\n",
    "\n",
    "# === Validation ===\n",
    "y_pred_probs = model2b.predict_proba(X_val)[:, 1]\n",
    "y_pred_labels = (y_pred_probs >= 0.5).astype(int)\n",
    "\n",
    "rmse = mean_squared_error(y_val, y_pred_labels) ** 0.5\n",
    "print(f\"✅ Validation RMSE: {rmse:.5f}\")\n",
    "\n",
    "# === Save Model 2B ===\n",
    "model2b.save_model(\"model2b_classifier.json\")\n",
    "with open(\"model2b_features.json\", \"w\") as f:\n",
    "    json.dump(features2b, f)\n",
    "\n",
    "print(\"💾 Model 2B and features saved.\")\n",
    "\n",
    "# === Build final submission ===\n",
    "print(\"📦 Generating final submission CSV...\")\n",
    "\n",
    "# Predict event type for all candidates\n",
    "full_X = candidates[features2b].astype(np.float32)\n",
    "event_probs = model2b.predict_proba(full_X)[:, 1]\n",
    "\n",
    "candidates[\"predicted_event_label\"] = np.where(event_probs >= 0.5, \"wakeup\", \"onset\")\n",
    "candidates[\"final_score\"] = candidates[\"target\"]  # From Model 2A confidence\n",
    "\n",
    "# Pick needed columns\n",
    "submission = candidates.copy()\n",
    "submission = submission[[\"series_id\", \"step\", \"predicted_event_label\", \"final_score\"]]\n",
    "submission = submission.rename(columns={\"predicted_event_label\": \"event\", \"final_score\": \"score\"})\n",
    "\n",
    "# Assign row_id\n",
    "submission[\"row_id\"] = range(len(submission))\n",
    "submission = submission[[\"row_id\", \"series_id\", \"step\", \"event\", \"score\"]]\n",
    "\n",
    "# Save final submission\n",
    "submission.to_csv(\"submission_model2b.csv\", index=False)\n",
    "print(\"✅ Final submission saved: submission_model2b.csv\")\n"
   ]
  },
  {
   "cell_type": "code",
   "execution_count": 57,
   "id": "1af53243-bf39-49e9-bb2c-ac27b4e97b65",
   "metadata": {},
   "outputs": [
    {
     "name": "stdout",
     "output_type": "stream",
     "text": [
      "✅ Final filtered submission saved.\n"
     ]
    }
   ],
   "source": [
    "# Filter by score threshold\n",
    "threshold = 0.1\n",
    "filtered = submission[submission[\"score\"] > threshold].copy()\n",
    "\n",
    "# Sort by score and drop overlapping predictions within ±24 steps\n",
    "filtered = filtered.sort_values([\"series_id\", \"step\", \"score\"], ascending=[True, True, False])\n",
    "final_preds = []\n",
    "\n",
    "for series_id, group in filtered.groupby(\"series_id\"):\n",
    "    taken_steps = []\n",
    "    for _, row in group.iterrows():\n",
    "        step = row[\"step\"]\n",
    "        if all(abs(step - s) > 24 for s in taken_steps):\n",
    "            final_preds.append(row)\n",
    "            taken_steps.append(step)\n",
    "\n",
    "# Convert to DataFrame\n",
    "final_df = pd.DataFrame(final_preds)\n",
    "\n",
    "# Reassign row_id\n",
    "final_df[\"row_id\"] = range(len(final_df))\n",
    "final_df = final_df[[\"row_id\", \"series_id\", \"step\", \"event\", \"score\"]]\n",
    "\n",
    "# Save clean final submission\n",
    "final_df.to_csv(\"submission_model2b_filtered.csv\", index=False)\n",
    "print(\"✅ Final filtered submission saved.\")"
   ]
  },
  {
   "cell_type": "code",
   "execution_count": 58,
   "id": "d257e5f1-b6ff-45d3-9178-871e49dec9f6",
   "metadata": {},
   "outputs": [],
   "source": [
    "import pandas as pd\n",
    "import numpy as np\n",
    "import xgboost as xgb\n",
    "import json\n",
    "from sklearn.model_selection import train_test_split\n",
    "from sklearn.metrics import mean_squared_error\n",
    "output = pd.read_csv(\"/home/jovyan/AICOMP/code/data/raw/submission_model2b_filtered.csv\")"
   ]
  },
  {
   "cell_type": "code",
   "execution_count": 59,
   "id": "bb67f5b7-490d-4a80-940a-45d4cbdcee60",
   "metadata": {},
   "outputs": [
    {
     "data": {
      "text/plain": [
       "1517"
      ]
     },
     "execution_count": 59,
     "metadata": {},
     "output_type": "execute_result"
    }
   ],
   "source": [
    "len(output)"
   ]
  },
  {
   "cell_type": "code",
   "execution_count": 51,
   "id": "b9efc361-a824-47a1-a717-871fc3d7f54d",
   "metadata": {},
   "outputs": [],
   "source": [
    "gt = pd.read_csv(\"/home/jovyan/AICOMP/code/data/raw/event_cleaned.csv\")"
   ]
  },
  {
   "cell_type": "code",
   "execution_count": 52,
   "id": "8f6a59e7-0780-46cf-a31e-4a91b0c110d3",
   "metadata": {},
   "outputs": [
    {
     "data": {
      "text/plain": [
       "2953"
      ]
     },
     "execution_count": 52,
     "metadata": {},
     "output_type": "execute_result"
    }
   ],
   "source": [
    "len(gt)"
   ]
  },
  {
   "cell_type": "code",
   "execution_count": null,
   "id": "38a6d2e4-d965-449e-a8a0-b0f794f603d0",
   "metadata": {},
   "outputs": [],
   "source": []
  }
 ],
 "metadata": {
  "kernelspec": {
   "display_name": "Python 3 (ipykernel)",
   "language": "python",
   "name": "python3"
  },
  "language_info": {
   "codemirror_mode": {
    "name": "ipython",
    "version": 3
   },
   "file_extension": ".py",
   "mimetype": "text/x-python",
   "name": "python",
   "nbconvert_exporter": "python",
   "pygments_lexer": "ipython3",
   "version": "3.12.9"
  }
 },
 "nbformat": 4,
 "nbformat_minor": 5
}
