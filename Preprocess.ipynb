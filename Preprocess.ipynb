{
 "cells": [
  {
   "cell_type": "code",
   "execution_count": 1,
   "id": "6a23f1ba-4c1a-40ae-9514-24f75f845b66",
   "metadata": {},
   "outputs": [
    {
     "name": "stdout",
     "output_type": "stream",
     "text": [
      "Requirement already satisfied: pandas in /opt/conda/lib/python3.12/site-packages (2.2.3)\n",
      "Requirement already satisfied: numpy>=1.26.0 in /opt/conda/lib/python3.12/site-packages (from pandas) (2.1.3)\n",
      "Requirement already satisfied: python-dateutil>=2.8.2 in /opt/conda/lib/python3.12/site-packages (from pandas) (2.9.0.post0)\n",
      "Requirement already satisfied: pytz>=2020.1 in /opt/conda/lib/python3.12/site-packages (from pandas) (2024.1)\n",
      "Requirement already satisfied: tzdata>=2022.7 in /opt/conda/lib/python3.12/site-packages (from pandas) (2025.1)\n",
      "Requirement already satisfied: six>=1.5 in /opt/conda/lib/python3.12/site-packages (from python-dateutil>=2.8.2->pandas) (1.17.0)\n",
      "Requirement already satisfied: seaborn in /opt/conda/lib/python3.12/site-packages (0.13.2)\n",
      "Requirement already satisfied: numpy!=1.24.0,>=1.20 in /opt/conda/lib/python3.12/site-packages (from seaborn) (2.1.3)\n",
      "Requirement already satisfied: pandas>=1.2 in /opt/conda/lib/python3.12/site-packages (from seaborn) (2.2.3)\n",
      "Requirement already satisfied: matplotlib!=3.6.1,>=3.4 in /opt/conda/lib/python3.12/site-packages (from seaborn) (3.10.1)\n",
      "Requirement already satisfied: contourpy>=1.0.1 in /opt/conda/lib/python3.12/site-packages (from matplotlib!=3.6.1,>=3.4->seaborn) (1.3.1)\n",
      "Requirement already satisfied: cycler>=0.10 in /opt/conda/lib/python3.12/site-packages (from matplotlib!=3.6.1,>=3.4->seaborn) (0.12.1)\n",
      "Requirement already satisfied: fonttools>=4.22.0 in /opt/conda/lib/python3.12/site-packages (from matplotlib!=3.6.1,>=3.4->seaborn) (4.56.0)\n",
      "Requirement already satisfied: kiwisolver>=1.3.1 in /opt/conda/lib/python3.12/site-packages (from matplotlib!=3.6.1,>=3.4->seaborn) (1.4.8)\n",
      "Requirement already satisfied: packaging>=20.0 in /opt/conda/lib/python3.12/site-packages (from matplotlib!=3.6.1,>=3.4->seaborn) (24.2)\n",
      "Requirement already satisfied: pillow>=8 in /opt/conda/lib/python3.12/site-packages (from matplotlib!=3.6.1,>=3.4->seaborn) (11.1.0)\n",
      "Requirement already satisfied: pyparsing>=2.3.1 in /opt/conda/lib/python3.12/site-packages (from matplotlib!=3.6.1,>=3.4->seaborn) (3.2.1)\n",
      "Requirement already satisfied: python-dateutil>=2.7 in /opt/conda/lib/python3.12/site-packages (from matplotlib!=3.6.1,>=3.4->seaborn) (2.9.0.post0)\n",
      "Requirement already satisfied: pytz>=2020.1 in /opt/conda/lib/python3.12/site-packages (from pandas>=1.2->seaborn) (2024.1)\n",
      "Requirement already satisfied: tzdata>=2022.7 in /opt/conda/lib/python3.12/site-packages (from pandas>=1.2->seaborn) (2025.1)\n",
      "Requirement already satisfied: six>=1.5 in /opt/conda/lib/python3.12/site-packages (from python-dateutil>=2.7->matplotlib!=3.6.1,>=3.4->seaborn) (1.17.0)\n",
      "Requirement already satisfied: pyarrow in /opt/conda/lib/python3.12/site-packages (19.0.1)\n",
      "Requirement already satisfied: matplotlib in /opt/conda/lib/python3.12/site-packages (3.10.1)\n",
      "Requirement already satisfied: contourpy>=1.0.1 in /opt/conda/lib/python3.12/site-packages (from matplotlib) (1.3.1)\n",
      "Requirement already satisfied: cycler>=0.10 in /opt/conda/lib/python3.12/site-packages (from matplotlib) (0.12.1)\n",
      "Requirement already satisfied: fonttools>=4.22.0 in /opt/conda/lib/python3.12/site-packages (from matplotlib) (4.56.0)\n",
      "Requirement already satisfied: kiwisolver>=1.3.1 in /opt/conda/lib/python3.12/site-packages (from matplotlib) (1.4.8)\n",
      "Requirement already satisfied: numpy>=1.23 in /opt/conda/lib/python3.12/site-packages (from matplotlib) (2.1.3)\n",
      "Requirement already satisfied: packaging>=20.0 in /opt/conda/lib/python3.12/site-packages (from matplotlib) (24.2)\n",
      "Requirement already satisfied: pillow>=8 in /opt/conda/lib/python3.12/site-packages (from matplotlib) (11.1.0)\n",
      "Requirement already satisfied: pyparsing>=2.3.1 in /opt/conda/lib/python3.12/site-packages (from matplotlib) (3.2.1)\n",
      "Requirement already satisfied: python-dateutil>=2.7 in /opt/conda/lib/python3.12/site-packages (from matplotlib) (2.9.0.post0)\n",
      "Requirement already satisfied: six>=1.5 in /opt/conda/lib/python3.12/site-packages (from python-dateutil>=2.7->matplotlib) (1.17.0)\n"
     ]
    }
   ],
   "source": [
    "!pip install pandas\n",
    "!pip install seaborn\n",
    "!pip install pyarrow\n",
    "!pip install matplotlib\n",
    "\n"
   ]
  },
  {
   "cell_type": "code",
   "execution_count": 8,
   "id": "3853049c-6686-4940-94b9-fa1549d730c6",
   "metadata": {},
   "outputs": [],
   "source": [
    "import pandas as pd\n",
    "import numpy as np\n",
    "import matplotlib.pyplot as plt\n",
    "import seaborn as sns\n",
    "from tqdm import tqdm\n",
    "from sklearn.preprocessing import StandardScaler\n",
    "import gc"
   ]
  },
  {
   "cell_type": "code",
   "execution_count": 3,
   "id": "519d8e76-be28-413b-913c-5d3b13d0bc65",
   "metadata": {},
   "outputs": [
    {
     "name": "stdout",
     "output_type": "stream",
     "text": [
      "📥 Lade Rohdaten...\n"
     ]
    }
   ],
   "source": [
    "# === 1. Load raw data ===\n",
    "df = pd.read_parquet('data/train_series.parquet')\n",
    "train_events = pd.read_csv('data/train_events.csv')"
   ]
  },
  {
   "cell_type": "code",
   "execution_count": 5,
   "id": "a21dc4d7-04fc-4360-a49e-e2183da81214",
   "metadata": {},
   "outputs": [
    {
     "name": "stdout",
     "output_type": "stream",
     "text": [
      "🔄 Konvertiere Timestamp-Spalte...\n",
      "Pocessed rows 1 bis 1000000... (0.78% finished)\n",
      "Pocessed rows 1000001 bis 2000000... (1.56% finished)\n",
      "Pocessed rows 2000001 bis 3000000... (2.34% finished)\n",
      "Pocessed rows 3000001 bis 4000000... (3.13% finished)\n",
      "Pocessed rows 4000001 bis 5000000... (3.91% finished)\n",
      "Pocessed rows 5000001 bis 6000000... (4.69% finished)\n",
      "Pocessed rows 6000001 bis 7000000... (5.47% finished)\n",
      "Pocessed rows 7000001 bis 8000000... (6.25% finished)\n",
      "Pocessed rows 8000001 bis 9000000... (7.03% finished)\n",
      "Pocessed rows 9000001 bis 10000000... (7.82% finished)\n",
      "Pocessed rows 10000001 bis 11000000... (8.60% finished)\n",
      "Pocessed rows 11000001 bis 12000000... (9.38% finished)\n",
      "Pocessed rows 12000001 bis 13000000... (10.16% finished)\n",
      "Pocessed rows 13000001 bis 14000000... (10.94% finished)\n",
      "Pocessed rows 14000001 bis 15000000... (11.72% finished)\n",
      "Pocessed rows 15000001 bis 16000000... (12.51% finished)\n",
      "Pocessed rows 16000001 bis 17000000... (13.29% finished)\n",
      "Pocessed rows 17000001 bis 18000000... (14.07% finished)\n",
      "Pocessed rows 18000001 bis 19000000... (14.85% finished)\n",
      "Pocessed rows 19000001 bis 20000000... (15.63% finished)\n",
      "Pocessed rows 20000001 bis 21000000... (16.41% finished)\n",
      "Pocessed rows 21000001 bis 22000000... (17.19% finished)\n",
      "Pocessed rows 22000001 bis 23000000... (17.98% finished)\n",
      "Pocessed rows 23000001 bis 24000000... (18.76% finished)\n",
      "Pocessed rows 24000001 bis 25000000... (19.54% finished)\n",
      "Pocessed rows 25000001 bis 26000000... (20.32% finished)\n",
      "Pocessed rows 26000001 bis 27000000... (21.10% finished)\n",
      "Pocessed rows 27000001 bis 28000000... (21.88% finished)\n",
      "Pocessed rows 28000001 bis 29000000... (22.67% finished)\n",
      "Pocessed rows 29000001 bis 30000000... (23.45% finished)\n",
      "Pocessed rows 30000001 bis 31000000... (24.23% finished)\n",
      "Pocessed rows 31000001 bis 32000000... (25.01% finished)\n",
      "Pocessed rows 32000001 bis 33000000... (25.79% finished)\n",
      "Pocessed rows 33000001 bis 34000000... (26.57% finished)\n",
      "Pocessed rows 34000001 bis 35000000... (27.36% finished)\n",
      "Pocessed rows 35000001 bis 36000000... (28.14% finished)\n",
      "Pocessed rows 36000001 bis 37000000... (28.92% finished)\n",
      "Pocessed rows 37000001 bis 38000000... (29.70% finished)\n",
      "Pocessed rows 38000001 bis 39000000... (30.48% finished)\n",
      "Pocessed rows 39000001 bis 40000000... (31.26% finished)\n",
      "Pocessed rows 40000001 bis 41000000... (32.04% finished)\n",
      "Pocessed rows 41000001 bis 42000000... (32.83% finished)\n",
      "Pocessed rows 42000001 bis 43000000... (33.61% finished)\n",
      "Pocessed rows 43000001 bis 44000000... (34.39% finished)\n",
      "Pocessed rows 44000001 bis 45000000... (35.17% finished)\n",
      "Pocessed rows 45000001 bis 46000000... (35.95% finished)\n",
      "Pocessed rows 46000001 bis 47000000... (36.73% finished)\n",
      "Pocessed rows 47000001 bis 48000000... (37.52% finished)\n",
      "Pocessed rows 48000001 bis 49000000... (38.30% finished)\n",
      "Pocessed rows 49000001 bis 50000000... (39.08% finished)\n",
      "Pocessed rows 50000001 bis 51000000... (39.86% finished)\n",
      "Pocessed rows 51000001 bis 52000000... (40.64% finished)\n",
      "Pocessed rows 52000001 bis 53000000... (41.42% finished)\n",
      "Pocessed rows 53000001 bis 54000000... (42.21% finished)\n",
      "Pocessed rows 54000001 bis 55000000... (42.99% finished)\n",
      "Pocessed rows 55000001 bis 56000000... (43.77% finished)\n",
      "Pocessed rows 56000001 bis 57000000... (44.55% finished)\n",
      "Pocessed rows 57000001 bis 58000000... (45.33% finished)\n",
      "Pocessed rows 58000001 bis 59000000... (46.11% finished)\n",
      "Pocessed rows 59000001 bis 60000000... (46.89% finished)\n",
      "Pocessed rows 60000001 bis 61000000... (47.68% finished)\n",
      "Pocessed rows 61000001 bis 62000000... (48.46% finished)\n",
      "Pocessed rows 62000001 bis 63000000... (49.24% finished)\n",
      "Pocessed rows 63000001 bis 64000000... (50.02% finished)\n",
      "Pocessed rows 64000001 bis 65000000... (50.80% finished)\n",
      "Pocessed rows 65000001 bis 66000000... (51.58% finished)\n",
      "Pocessed rows 66000001 bis 67000000... (52.37% finished)\n",
      "Pocessed rows 67000001 bis 68000000... (53.15% finished)\n",
      "Pocessed rows 68000001 bis 69000000... (53.93% finished)\n",
      "Pocessed rows 69000001 bis 70000000... (54.71% finished)\n",
      "Pocessed rows 70000001 bis 71000000... (55.49% finished)\n",
      "Pocessed rows 71000001 bis 72000000... (56.27% finished)\n",
      "Pocessed rows 72000001 bis 73000000... (57.06% finished)\n",
      "Pocessed rows 73000001 bis 74000000... (57.84% finished)\n",
      "Pocessed rows 74000001 bis 75000000... (58.62% finished)\n",
      "Pocessed rows 75000001 bis 76000000... (59.40% finished)\n",
      "Pocessed rows 76000001 bis 77000000... (60.18% finished)\n",
      "Pocessed rows 77000001 bis 78000000... (60.96% finished)\n",
      "Pocessed rows 78000001 bis 79000000... (61.74% finished)\n",
      "Pocessed rows 79000001 bis 80000000... (62.53% finished)\n",
      "Pocessed rows 80000001 bis 81000000... (63.31% finished)\n",
      "Pocessed rows 81000001 bis 82000000... (64.09% finished)\n",
      "Pocessed rows 82000001 bis 83000000... (64.87% finished)\n",
      "Pocessed rows 83000001 bis 84000000... (65.65% finished)\n",
      "Pocessed rows 84000001 bis 85000000... (66.43% finished)\n",
      "Pocessed rows 85000001 bis 86000000... (67.22% finished)\n",
      "Pocessed rows 86000001 bis 87000000... (68.00% finished)\n",
      "Pocessed rows 87000001 bis 88000000... (68.78% finished)\n",
      "Pocessed rows 88000001 bis 89000000... (69.56% finished)\n",
      "Pocessed rows 89000001 bis 90000000... (70.34% finished)\n",
      "Pocessed rows 90000001 bis 91000000... (71.12% finished)\n",
      "Pocessed rows 91000001 bis 92000000... (71.91% finished)\n",
      "Pocessed rows 92000001 bis 93000000... (72.69% finished)\n",
      "Pocessed rows 93000001 bis 94000000... (73.47% finished)\n",
      "Pocessed rows 94000001 bis 95000000... (74.25% finished)\n",
      "Pocessed rows 95000001 bis 96000000... (75.03% finished)\n",
      "Pocessed rows 96000001 bis 97000000... (75.81% finished)\n",
      "Pocessed rows 97000001 bis 98000000... (76.59% finished)\n",
      "Pocessed rows 98000001 bis 99000000... (77.38% finished)\n",
      "Pocessed rows 99000001 bis 100000000... (78.16% finished)\n",
      "Pocessed rows 100000001 bis 101000000... (78.94% finished)\n",
      "Pocessed rows 101000001 bis 102000000... (79.72% finished)\n",
      "Pocessed rows 102000001 bis 103000000... (80.50% finished)\n",
      "Pocessed rows 103000001 bis 104000000... (81.28% finished)\n",
      "Pocessed rows 104000001 bis 105000000... (82.07% finished)\n",
      "Pocessed rows 105000001 bis 106000000... (82.85% finished)\n",
      "Pocessed rows 106000001 bis 107000000... (83.63% finished)\n",
      "Pocessed rows 107000001 bis 108000000... (84.41% finished)\n",
      "Pocessed rows 108000001 bis 109000000... (85.19% finished)\n",
      "Pocessed rows 109000001 bis 110000000... (85.97% finished)\n",
      "Pocessed rows 110000001 bis 111000000... (86.76% finished)\n",
      "Pocessed rows 111000001 bis 112000000... (87.54% finished)\n",
      "Pocessed rows 112000001 bis 113000000... (88.32% finished)\n",
      "Pocessed rows 113000001 bis 114000000... (89.10% finished)\n",
      "Pocessed rows 114000001 bis 115000000... (89.88% finished)\n",
      "Pocessed rows 115000001 bis 116000000... (90.66% finished)\n",
      "Pocessed rows 116000001 bis 117000000... (91.44% finished)\n",
      "Pocessed rows 117000001 bis 118000000... (92.23% finished)\n",
      "Pocessed rows 118000001 bis 119000000... (93.01% finished)\n",
      "Pocessed rows 119000001 bis 120000000... (93.79% finished)\n",
      "Pocessed rows 120000001 bis 121000000... (94.57% finished)\n",
      "Pocessed rows 121000001 bis 122000000... (95.35% finished)\n",
      "Pocessed rows 122000001 bis 123000000... (96.13% finished)\n",
      "Pocessed rows 123000001 bis 124000000... (96.92% finished)\n",
      "Pocessed rows 124000001 bis 125000000... (97.70% finished)\n",
      "Pocessed rows 125000001 bis 126000000... (98.48% finished)\n",
      "Pocessed rows 126000001 bis 127000000... (99.26% finished)\n",
      "Pocessed rows 127000001 bis 127946340... (100.00% finished)\n"
     ]
    }
   ],
   "source": [
    "# === 2. Timestamp-Conversion in Batches ===\n",
    "print(\"🔄 Convert Timestamp-column...\")\n",
    "total_rows = len(df)\n",
    "batch_size = 1_000_000\n",
    "for i in range(0, total_rows, batch_size):\n",
    "    start = i\n",
    "    end = min(i + batch_size, total_rows)\n",
    "    df.iloc[start:end, df.columns.get_loc('timestamp')] = pd.to_datetime(\n",
    "        df.iloc[start:end, df.columns.get_loc('timestamp')], utc=True\n",
    "    )\n",
    "    print(f\"Pocessed rows {start + 1} bis {end}... ({(end / total_rows) * 100:.2f}% finished)\")\n",
    "\n",
    "df = df.drop_duplicates()\n",
    "df.to_parquet('processed/train_series_cleaned.parquet', index=False)"
   ]
  },
  {
   "cell_type": "code",
   "execution_count": 10,
   "id": "9bd3dce7-b5ce-4364-958c-a52c452422be",
   "metadata": {},
   "outputs": [
    {
     "data": {
      "text/plain": [
       "1753"
      ]
     },
     "execution_count": 10,
     "metadata": {},
     "output_type": "execute_result"
    }
   ],
   "source": [
    "df = pd.read_parquet('processed/train_series_cleaned.parquet')\n",
    "del df\n",
    "gc.collect()"
   ]
  },
  {
   "cell_type": "code",
   "execution_count": 11,
   "id": "4860ba32-18fe-412a-bbcb-8f46fb77cd10",
   "metadata": {},
   "outputs": [],
   "source": [
    "# === 3. Load data with ===\n",
    "df_cleaned = pd.read_parquet('processed/train_series_cleaned.parquet')\n",
    "\n",
    "train_events['timestamp'] = pd.to_datetime(train_events['timestamp'], utc=True)\n",
    "train_events = train_events.drop_duplicates()\n",
    "train_events = train_events.dropna(subset=['timestamp'])\n",
    "train_events = train_events.sort_values(by=[\"series_id\", \"step\"])\n"
   ]
  },
  {
   "cell_type": "code",
   "execution_count": 12,
   "id": "52c657fe-d103-4e29-9d32-b8c4e3d763f5",
   "metadata": {},
   "outputs": [
    {
     "name": "stdout",
     "output_type": "stream",
     "text": [
      "🧹 Removing series_ids with night gaps...\n",
      "🚨 038441c925bb has gaps in nights [5, 9, 14]!\n",
      "🚨 03d92c9f6f8a has gaps in nights [4, 6, 7, 8, 9, 10, 13]!\n",
      "🚨 0402a003dae9 has gaps in nights [3, 4, 5, 19]!\n",
      "🚨 04f547b8017d has gaps in nights [1, 4, 17, 20, 23]!\n",
      "🚨 05e1944c3818 has gaps in nights [1]!\n",
      "🚨 062cae666e2a has gaps in nights [3, 4, 5, 6, 7, 8, 9, 10, 11, 12]!\n",
      "🚨 062dbd4c95e6 has gaps in nights [2, 3, 7, 8, 12, 13, 16, 17, 18, 19, 21, 22, 23]!\n",
      "🚨 0cd1e3d0ed95 has gaps in nights [6, 7, 8, 9, 10, 11, 12]!\n",
      "🚨 0d0ad1e77851 has gaps in nights [5, 6, 9]!\n",
      "🚨 0dee4fda51c3 has gaps in nights [15, 16, 18, 22]!\n",
      "🚨 0ec9fc461819 has gaps in nights [23, 24, 25]!\n",
      "🚨 0f572d690310 has gaps in nights [4, 5, 6, 10, 13, 19, 20, 21]!\n",
      "🚨 10469f6765bf has gaps in nights [2]!\n",
      "🚨 12d01911d509 has gaps in nights [5, 20]!\n",
      "🚨 137771d19ca2 has gaps in nights [1]!\n",
      "🚨 137b99e936ab has gaps in nights [2, 3, 8, 11, 12, 18, 21, 25, 26, 27]!\n",
      "🚨 13b4d6a01d27 has gaps in nights [1]!\n",
      "🚨 148471991ffb has gaps in nights [3, 4, 5, 6, 7, 9, 10, 11, 12, 13, 14]!\n",
      "🚨 16fe2798ed0f has gaps in nights [2, 4, 8, 9, 11, 14, 16, 21]!\n",
      "🚨 1762ab70ec76 has gaps in nights [3, 8]!\n",
      "🚨 188d4b7cd28b has gaps in nights [10]!\n",
      "🚨 18a0ca03431d has gaps in nights [10]!\n",
      "🚨 1b92be89db4c has gaps in nights [11]!\n",
      "🚨 1c7c0bad1263 has gaps in nights [4]!\n",
      "🚨 1d4569cbac0f has gaps in nights [1, 5, 7, 8, 12, 14, 15, 16, 17, 18, 20, 21, 22, 23, 24, 25, 26, 27, 28, 29, 30, 31]!\n",
      "🚨 1e6717d93c1d has gaps in nights [2, 7, 8]!\n",
      "🚨 1f96b9668bdf has gaps in nights [1, 2, 3, 4, 5, 8, 9, 15, 16, 17, 22, 23, 24, 25, 26, 29, 30]!\n",
      "🚨 207eded97727 has gaps in nights [2, 3, 4]!\n",
      "🚨 25e2b3dd9c3b has gaps in nights [18, 35]!\n",
      "🚨 27f09a6a858f has gaps in nights [2]!\n",
      "🚨 280e08693c6d has gaps in nights [3, 6, 8, 9, 13, 16, 22, 23, 24, 25, 28, 30, 33, 34]!\n",
      "🚨 292a75c0b94e has gaps in nights [2, 3, 4, 8, 9, 13, 24, 25, 26]!\n",
      "🚨 29d3469bd15d has gaps in nights [3, 4, 8, 9, 10, 11, 12, 13]!\n",
      "🚨 2b0a1fa8eba8 has gaps in nights [15, 16, 18, 20]!\n",
      "🚨 2b8d87addea9 has gaps in nights [7, 16]!\n",
      "🚨 2cd2340ca14d has gaps in nights [2, 11, 12]!\n",
      "🚨 2e9ced2c7976 has gaps in nights [9, 13]!\n",
      "🚨 2f7504d0f426 has gaps in nights [16]!\n",
      "🚨 2fbbee1a38e3 has gaps in nights [18]!\n",
      "🚨 3318a0e3ed6f has gaps in nights [1, 9, 26]!\n",
      "🚨 33ceeba8918a has gaps in nights [16, 17, 19]!\n",
      "🚨 35826366dfc7 has gaps in nights [12]!\n",
      "🚨 361366da569e has gaps in nights [6, 17]!\n",
      "🚨 3665c86afaf5 has gaps in nights [8, 9]!\n",
      "🚨 3a9a9dc2cbd9 has gaps in nights [2, 3, 4, 5]!\n",
      "🚨 3aceb17ef7bd has gaps in nights [17, 26, 27, 28]!\n",
      "🚨 3be1545083b7 has gaps in nights [3, 4, 5]!\n",
      "🚨 3be2f86c3e45 has gaps in nights [2, 4, 5, 6, 7, 8, 9, 11, 12, 13, 14, 15, 16]!\n",
      "🚨 3c336d6ba566 has gaps in nights [6, 9, 11, 13, 16, 17, 18, 19, 20]!\n",
      "🚨 3d53bfea61d6 has gaps in nights [15, 16, 21]!\n",
      "🚨 3df0da2e5966 has gaps in nights [6, 11, 13, 14, 15]!\n",
      "🚨 40dce6018935 has gaps in nights [7, 8]!\n",
      "🚨 416354edd92a has gaps in nights [2, 3, 4, 5, 11, 13, 20]!\n",
      "🚨 449766346eb1 has gaps in nights [12]!\n",
      "🚨 44a41bba1ee7 has gaps in nights [3, 11, 14]!\n",
      "🚨 44d8c02b369e has gaps in nights [1, 3, 4, 5, 6, 7, 8, 9, 10, 11, 14]!\n",
      "🚨 4743bdde25df has gaps in nights [1, 14]!\n",
      "🚨 4a31811f3558 has gaps in nights [1, 8]!\n",
      "🚨 4ab54be1a403 has gaps in nights [21]!\n",
      "🚨 4ac356361be9 has gaps in nights [14, 15]!\n",
      "🚨 4b45c36f8f5a has gaps in nights [1]!\n",
      "🚨 4feda0596965 has gaps in nights [1, 2, 9, 10, 11, 12, 13, 15, 16, 20, 22, 23, 25, 26, 27, 28, 29, 30, 31, 32]!\n",
      "🚨 519ae2d858b0 has gaps in nights [4, 5, 6, 7, 8, 10, 11, 12, 13, 14, 15, 16, 17, 20, 21]!\n",
      "🚨 51b23d177971 has gaps in nights [6]!\n",
      "🚨 51c49c540b4e has gaps in nights [2, 4, 15, 16, 17, 21]!\n",
      "🚨 51fdcc8d9fe7 has gaps in nights [3, 13, 14, 18]!\n",
      "🚨 559ffb7c166a has gaps in nights [6, 20]!\n",
      "🚨 55b7f5c99930 has gaps in nights [4, 6, 7, 9, 22, 27, 28, 29, 30, 31]!\n",
      "🚨 599ca4ed791b has gaps in nights [2, 4, 6]!\n",
      "🚨 5c088d7e916c has gaps in nights [3, 9, 10]!\n",
      "🚨 5e816f11f5c3 has gaps in nights [3, 4, 5, 6]!\n",
      "🚨 5f40907ec171 has gaps in nights [8, 9, 10, 14]!\n",
      "🚨 5f76965e10cf has gaps in nights [16]!\n",
      "🚨 5ffd5e1e81ac has gaps in nights [19, 26]!\n",
      "🚨 601559e1777d has gaps in nights [7]!\n",
      "🚨 60d31b0bec3b has gaps in nights [1, 4, 12, 14]!\n",
      "🚨 60e51cad2ffb has gaps in nights [3]!\n",
      "🚨 612aa8ba44e2 has gaps in nights [2, 4]!\n",
      "🚨 653622ac8363 has gaps in nights [8]!\n",
      "🚨 694faf956ebf has gaps in nights [18, 19, 20]!\n",
      "🚨 6a4cd123bd69 has gaps in nights [3, 6, 7, 8, 9, 10, 11, 12, 13, 20, 21, 22, 25, 30, 31, 32]!\n",
      "🚨 6bf95a3cf91c has gaps in nights [5, 6, 8, 11, 13, 17, 19, 22]!\n",
      "🚨 6ca4f4fca6a2 has gaps in nights [5, 7, 12, 16, 19, 24, 26, 27, 33, 34, 35]!\n",
      "🚨 6d6b9d22d48a has gaps in nights [5, 6, 8, 27, 30]!\n",
      "🚨 702bb5387b1e has gaps in nights [3, 5, 9, 11, 13, 14, 15, 17, 22]!\n",
      "🚨 703b5efa9bc1 has gaps in nights [3, 4, 5]!\n",
      "🚨 72ba4a8afff4 has gaps in nights [8, 9, 10, 11, 12, 17]!\n",
      "🚨 73fb772e50fb has gaps in nights [3, 4, 6, 8, 9]!\n",
      "🚨 7476c0bd18d2 has gaps in nights [1, 2, 3]!\n",
      "🚨 7504165f497d has gaps in nights [9]!\n",
      "🚨 77ca4db83644 has gaps in nights [3, 4, 5, 6, 11, 12, 15, 16, 17, 18, 19, 20, 21, 22, 23, 24, 25, 28]!\n",
      "🚨 785c9ca4eff7 has gaps in nights [4, 6, 9, 10, 17, 19, 22]!\n",
      "🚨 7df249527c63 has gaps in nights [2]!\n",
      "🚨 7fd4284b7ee8 has gaps in nights [5, 6, 13]!\n",
      "🚨 808652a666c6 has gaps in nights [20, 21]!\n",
      "🚨 83fa182bec3a has gaps in nights [2, 7, 8]!\n",
      "🚨 844f54dcab89 has gaps in nights [4, 18]!\n",
      "🚨 854206f602d0 has gaps in nights [2, 3, 5, 6, 7, 8, 9, 10, 11, 12, 13, 14, 15]!\n",
      "🚨 87a6cbb7c4ed has gaps in nights [2, 7, 8]!\n",
      "🚨 8877a6586606 has gaps in nights [12]!\n",
      "🚨 8a22387617c3 has gaps in nights [4, 6, 9]!\n",
      "🚨 8b159a98f485 has gaps in nights [6]!\n",
      "🚨 8b8b9e29171c has gaps in nights [9, 10]!\n",
      "🚨 8f6f15b9f598 has gaps in nights [1, 12, 13]!\n",
      "🚨 90eac42a9ec9 has gaps in nights [1, 2, 3, 4, 5, 6, 7, 12, 15]!\n",
      "🚨 91127c2b0e60 has gaps in nights [12, 15, 16, 18, 19, 21, 25, 26]!\n",
      "🚨 9277be28a1cf has gaps in nights [2, 5]!\n",
      "🚨 927dd0c35dfd has gaps in nights [4]!\n",
      "🚨 971207c6a525 has gaps in nights [11, 15, 16, 17, 18, 19, 20, 21]!\n",
      "🚨 99b829cbad2d has gaps in nights [9, 10]!\n",
      "🚨 9a340507e36a has gaps in nights [13, 19, 23]!\n",
      "🚨 9b9cd7b7af8c has gaps in nights [8, 10, 16, 19]!\n",
      "🚨 9c91c546e095 has gaps in nights [2, 9]!\n",
      "🚨 9fbdeffbe2ba has gaps in nights [17, 18, 19]!\n",
      "🚨 a167532acca2 has gaps in nights [1, 2, 4, 5, 6, 7, 8, 10, 17, 18, 19]!\n",
      "🚨 a261bc4b7470 has gaps in nights [9, 12, 13, 14, 15, 16, 18]!\n",
      "🚨 a4e48102f402 has gaps in nights [17, 20]!\n",
      "🚨 a681f9b04b21 has gaps in nights [3, 14, 15, 21, 22]!\n",
      "🚨 a81f4472c637 has gaps in nights [8]!\n",
      "🚨 aa81faa78747 has gaps in nights [8, 10, 13, 14, 15, 19]!\n",
      "🚨 ad425f3ee76d has gaps in nights [14, 15, 17, 18, 23, 24, 25, 26, 27]!\n",
      "🚨 b4b75225b224 has gaps in nights [14]!\n",
      "🚨 b7188813d58a has gaps in nights [4, 13]!\n",
      "🚨 b737f8c78ec5 has gaps in nights [21]!\n",
      "🚨 b750c8c1556c has gaps in nights [6, 7, 8, 10, 12, 13, 14, 15]!\n",
      "🚨 b7fc34995d0f has gaps in nights [1, 4]!\n",
      "🚨 b84960841a75 has gaps in nights [2, 3, 4, 5, 6, 7, 11, 12, 13, 14, 15, 16]!\n",
      "🚨 ba8083a2c3b8 has gaps in nights [4]!\n",
      "🚨 bb5612895813 has gaps in nights [6, 7, 9, 14, 17, 18]!\n",
      "🚨 bccf2f2819f8 has gaps in nights [9, 21]!\n",
      "🚨 bdfce9ce62b9 has gaps in nights [3]!\n",
      "🚨 bf00506437aa has gaps in nights [9, 12]!\n",
      "🚨 c289c8a823e0 has gaps in nights [3, 13, 14]!\n",
      "🚨 c3072a759efb has gaps in nights [1, 4, 5, 6, 7, 8, 9, 10, 11, 12, 13, 14, 15]!\n",
      "🚨 c38707ef76df has gaps in nights [7, 11, 30]!\n",
      "🚨 c75b4b207bea has gaps in nights [7, 12, 13, 22]!\n",
      "🚨 c7b2155a4a47 has gaps in nights [12, 20]!\n",
      "🚨 c7d693f24684 has gaps in nights [1, 2, 3, 4, 5, 6, 7, 8, 9, 11, 13, 14, 15, 17]!\n",
      "🚨 c8053490cec2 has gaps in nights [8, 12, 13, 14, 16, 17, 18, 19]!\n",
      "🚨 c908a0ad3e31 has gaps in nights [15, 16]!\n",
      "🚨 ca732a3c37f7 has gaps in nights [10]!\n",
      "🚨 cca14d1966c1 has gaps in nights [5, 8, 11, 13, 17]!\n",
      "🚨 ccdee561ee5d has gaps in nights [3, 9, 10, 12, 15, 16, 17, 20, 21, 22, 23, 29]!\n",
      "🚨 ce9164297046 has gaps in nights [15, 19]!\n",
      "🚨 cfeb11428dd7 has gaps in nights [5, 6, 7, 8, 9, 10, 11, 12, 14, 16, 17, 18, 19, 20, 21, 22, 23, 24, 25, 27, 29]!\n",
      "🚨 d043c0ca71cd has gaps in nights [2, 11, 13, 17, 18, 24, 25, 31, 32, 33, 39]!\n",
      "🚨 d0f613c700f7 has gaps in nights [9, 17, 18]!\n",
      "🚨 d2fef7e4defd has gaps in nights [3, 5, 6, 7, 8, 9, 11, 19, 21]!\n",
      "🚨 d5be621fd9aa has gaps in nights [2, 3, 5, 7, 8, 9, 10, 12, 13]!\n",
      "🚨 d8de352c2657 has gaps in nights [4, 9, 15, 21]!\n",
      "🚨 d93b0c7de16b has gaps in nights [1]!\n",
      "🚨 d9e887091a5c has gaps in nights [2, 12, 13]!\n",
      "🚨 dacc6d652e35 has gaps in nights [7, 8, 10, 12]!\n",
      "🚨 db5e0ee1c0ab has gaps in nights [3, 4, 5, 7]!\n",
      "🚨 db75092f0530 has gaps in nights [9]!\n",
      "🚨 dc80ca623d71 has gaps in nights [11, 27]!\n",
      "🚨 de6fedfb6139 has gaps in nights [15, 33]!\n",
      "🚨 def21f50dd3c has gaps in nights [12]!\n",
      "🚨 df33ae359fb5 has gaps in nights [1, 2, 3, 4, 5, 14, 17, 19]!\n",
      "🚨 dfc3ccebfdc9 has gaps in nights [4, 6, 13, 20]!\n",
      "🚨 dff367373725 has gaps in nights [1, 2, 3, 4, 5, 6, 7, 9]!\n",
      "🚨 e0686434d029 has gaps in nights [26]!\n",
      "🚨 e0d7b0dcf9f3 has gaps in nights [9]!\n",
      "🚨 e1f2a4f991cb has gaps in nights [18, 19, 20, 21, 22]!\n",
      "🚨 e1f5abb82285 has gaps in nights [9]!\n",
      "🚨 e2a849d283c0 has gaps in nights [3, 4, 12, 14, 17, 18, 19, 20]!\n",
      "🚨 e2b60820c325 has gaps in nights [12, 22]!\n",
      "🚨 e30cb792a2bc has gaps in nights [5, 6, 7, 8, 9, 10, 11, 12, 13, 14, 15, 16, 17, 18]!\n",
      "🚨 e34b496b84ce has gaps in nights [3, 4, 8, 9, 10, 11, 13, 14, 15, 16, 17]!\n",
      "🚨 e4500e7e19e1 has gaps in nights [1, 4, 5, 6, 7, 8]!\n",
      "🚨 e586cbfa7762 has gaps in nights [25, 32]!\n",
      "🚨 e69aff66e0cb has gaps in nights [4, 9]!\n",
      "🚨 e6ddbaaf0639 has gaps in nights [1, 3, 8, 9, 10, 11, 12]!\n",
      "🚨 e867b5133665 has gaps in nights [4, 14, 17, 18, 19, 20, 21, 22]!\n",
      "🚨 ea0770830757 has gaps in nights [9, 15, 18]!\n",
      "🚨 ebb6fae8ed43 has gaps in nights [17, 19, 20, 21, 23, 24, 25, 26, 27, 28, 29, 30, 31, 32, 33]!\n",
      "🚨 ebd76e93ec7d has gaps in nights [4, 10, 11]!\n",
      "🚨 ece2561f07e9 has gaps in nights [7, 10, 11, 17, 18, 19, 20, 21, 22, 23, 27]!\n",
      "🚨 ee4e0e3afd3d has gaps in nights [1, 2, 3, 5, 6, 9, 14, 20, 23]!\n",
      "🚨 eef041dd50aa has gaps in nights [4, 6, 7, 8, 9, 10, 16, 18, 24, 25]!\n",
      "🚨 efbfc4526d58 has gaps in nights [5, 6]!\n",
      "🚨 f0482490923c has gaps in nights [2, 3, 6, 10, 12, 15]!\n",
      "🚨 f2c2436cf7b7 has gaps in nights [10, 21]!\n",
      "🚨 f564985ab692 has gaps in nights [3, 4, 5, 6, 7, 8, 10, 11, 12, 13, 15, 16, 17, 18, 19]!\n",
      "🚨 f56824b503a0 has gaps in nights [1, 8, 9]!\n",
      "🚨 f6d2cc003183 has gaps in nights [1]!\n",
      "🚨 f88e18cb4100 has gaps in nights [17, 18, 21]!\n",
      "🚨 f981a0805fd0 has gaps in nights [1, 2]!\n",
      "🚨 fa149c3c4bde has gaps in nights [3, 8, 11, 16, 20, 21, 22, 23]!\n",
      "🚨 fb223ed2278c has gaps in nights [3, 6, 7, 8]!\n",
      "🚨 fbf33b1a2c10 has gaps in nights [1, 6, 20, 22]!\n",
      "🚨 fe90110788d2 has gaps in nights [1]!\n",
      " 192 series_ids removed due to night gaps.\n",
      "Before: 127946340 rows\n",
      "After: 36869220 rows\n"
     ]
    }
   ],
   "source": [
    "# === 4. Remove series_ids with gaps in the nights and step===(where there are nights missing there are also missing timestamps)\n",
    "print(\"🧹 Removing series_ids with night gaps...\")\n",
    "gaps = []\n",
    "\n",
    "# Group by series_id and check for missing nights\n",
    "for series_id, group in train_events.groupby(\"series_id\"):\n",
    "    group = group.sort_values(by=\"step\")\n",
    "    nights_with_data = group[group[\"step\"].notna()][\"night\"].unique()\n",
    "    max_night = group[\"night\"].max()\n",
    "    all_nights = set(range(1, max_night + 1))\n",
    "    missing_nights = all_nights - set(nights_with_data)\n",
    "    if missing_nights:\n",
    "        print(f\"🚨 {series_id} has gaps in nights {sorted(missing_nights)}!\")\n",
    "        gaps.append(series_id)\n",
    "\n",
    "# Report result\n",
    "if not gaps:\n",
    "    print(\"No gaps found!\")\n",
    "removed_ids = len(gaps)\n",
    "print(f\" {removed_ids:,} series_ids removed due to night gaps.\")\n",
    "print(f\"Before: {df_cleaned.shape[0]} rows\")\n",
    "df_cleaned = df_cleaned[~df_cleaned[\"series_id\"].isin(gaps)]\n",
    "print(f\"After: {df_cleaned.shape[0]} rows\")\n",
    "\n",
    "# Remove from original events as well\n",
    "event_cleaned = train_events[~train_events[\"series_id\"].isin(gaps)]"
   ]
  },
  {
   "cell_type": "code",
   "execution_count": 13,
   "id": "279b92df-20bd-4293-92a1-0da01ba2101d",
   "metadata": {},
   "outputs": [],
   "source": [
    "fi = \"processed/event_cleaned.csv\"\n",
    "event_cleaned.to_csv(fi, index=False)"
   ]
  },
  {
   "cell_type": "code",
   "execution_count": 14,
   "id": "cfe9bd29-b5b3-4ffa-b0c2-388c177dc822",
   "metadata": {},
   "outputs": [
    {
     "name": "stdout",
     "output_type": "stream",
     "text": [
      "Before: 36869220 rows\n",
      "After: 33744960 rows\n"
     ]
    }
   ],
   "source": [
    "# Remove all series ids from train dataset which dont are in event dataset\n",
    "print(f\"Before: {len(df_cleaned)} rows\")\n",
    "df_cleaned = df_cleaned[df_cleaned['series_id'].isin(train_events['series_id'])]\n",
    "print(f\"After: {len(df_cleaned)} rows\")"
   ]
  },
  {
   "cell_type": "code",
   "execution_count": 15,
   "id": "11ce1f64-64f7-47df-b35c-b196464eb111",
   "metadata": {},
   "outputs": [
    {
     "data": {
      "text/plain": [
       "event\n",
       "onset     1476\n",
       "wakeup    1477\n",
       "Name: count, dtype: int64"
      ]
     },
     "execution_count": 15,
     "metadata": {},
     "output_type": "execute_result"
    }
   ],
   "source": [
    "event_cleaned['event'].value_counts().loc[['onset', 'wakeup']]"
   ]
  },
  {
   "cell_type": "code",
   "execution_count": 16,
   "id": "9da58850-ca03-4398-84a8-893cbd27198a",
   "metadata": {},
   "outputs": [
    {
     "name": "stdout",
     "output_type": "stream",
     "text": [
      "🔍 Filtering steps outside event boundaries...\n"
     ]
    }
   ],
   "source": [
    "# === 5. Remove unnecessary steps in train dataset where we dont have any data in the event dataset ===\n",
    "print(\"🔍 Filtering steps outside event boundaries...\")\n",
    "max_steps = train_events.groupby(\"series_id\")[\"step\"].max().to_dict()\n",
    "df_cleaned = df_cleaned[\n",
    "    df_cleaned.apply(lambda row: row[\"step\"] <= max_steps.get(row[\"series_id\"], float('inf')), axis=1)\n",
    "]"
   ]
  },
  {
   "cell_type": "code",
   "execution_count": 17,
   "id": "ba66d96e-df33-45a8-a96f-ca3f5fe7e92d",
   "metadata": {},
   "outputs": [],
   "source": [
    "# 1. Merge\n",
    "merged_dff = pd.merge(df_cleaned, train_events, on=['series_id', 'timestamp'], how='left')\n",
    "\n",
    "del df_cleaned\n",
    "gc.collect()\n",
    "# 2. Store the positions of the original events\n",
    "original_mask = merged_dff[\"event\"].notna()\n",
    "\n",
    "# 3. Forward-fill the 'event' and 'night' columns within each series_id\n",
    "merged_dff[[\"night\", \"event\"]] = merged_dff.groupby(\"series_id\")[[\"night\", \"event\"]].ffill()\n",
    "\n",
    "# 4. Fill initial NaNs (before the first event)\n",
    "merged_dff[\"event\"] = merged_dff[\"event\"].fillna(\"wakeup\") #because the first event is always onset so the people are awake when the timeseries starts\n",
    "merged_dff[\"night\"] = merged_dff[\"night\"].fillna(0)\n",
    "\n",
    "# 5. Replace only the filled values with asleep/awake, not the original ones\n",
    "filled_mask = ~original_mask\n",
    "merged_dff.loc[filled_mask & (merged_dff[\"event\"] == \"wakeup\"), \"event\"] = \"awake\"\n",
    "merged_dff.loc[filled_mask & (merged_dff[\"event\"] == \"onset\"), \"event\"] = \"asleep\""
   ]
  },
  {
   "cell_type": "code",
   "execution_count": 18,
   "id": "08ffdafd-1ce2-4350-8576-a13a7533944b",
   "metadata": {},
   "outputs": [
    {
     "name": "stdout",
     "output_type": "stream",
     "text": [
      "'onset' count: 1,476\n",
      "'wakeup' count: 1,477\n"
     ]
    }
   ],
   "source": [
    "print(f\"'onset' count: {(merged_dff['event'] == 'onset').sum():,}\")\n",
    "print(f\"'wakeup' count: {(merged_dff['event'] == 'wakeup').sum():,}\")"
   ]
  },
  {
   "cell_type": "code",
   "execution_count": 19,
   "id": "30433259-7a59-49e8-83b1-67be52f867c4",
   "metadata": {},
   "outputs": [
    {
     "name": "stdout",
     "output_type": "stream",
     "text": [
      "'awake' count: 16,104,952\n",
      "'asleep' count: 9,045,648\n"
     ]
    }
   ],
   "source": [
    "print(f\"'awake' count: {(merged_dff['event'] == 'awake').sum():,}\")\n",
    "print(f\"'asleep' count: {(merged_dff['event'] == 'asleep').sum():,}\")"
   ]
  },
  {
   "cell_type": "code",
   "execution_count": 20,
   "id": "e1046b59-bb4a-4a90-b2f5-117ff18f9c9c",
   "metadata": {},
   "outputs": [],
   "source": [
    "# Remove duplicate 'step_y' column \n",
    "if \"step_y\" in merged_dff.columns:\n",
    "    merged_dff.drop(columns=[\"step_y\"], inplace=True)\n",
    "\n",
    "# Rename 'step_x' back to 'step' \n",
    "if \"step_x\" in merged_dff.columns:\n",
    "    merged_dff.rename(columns={\"step_x\": \"step\"}, inplace=True)"
   ]
  },
  {
   "cell_type": "markdown",
   "id": "d6141b04-d084-46bc-9871-7ef3b65fd89b",
   "metadata": {},
   "source": [
    "# Feature Engineering\n"
   ]
  },
  {
   "cell_type": "code",
   "execution_count": 21,
   "id": "c71ce423-7212-4702-8cc0-cdd280bcadbf",
   "metadata": {},
   "outputs": [],
   "source": [
    "# === 8. Time-based features ===\n",
    "merged_dff['hour'] = merged_dff['timestamp'].dt.hour.astype('int8')\n",
    "merged_dff['minute'] = merged_dff['timestamp'].dt.minute.astype('int8')\n",
    "merged_dff['day_of_week'] = merged_dff['timestamp'].dt.dayofweek.astype('int8')\n",
    "merged_dff['elapsed_time_from_midnight'] = (merged_dff['hour'] * 60 + merged_dff['minute']).astype('int32')\n",
    "merged_dff['is_weekend'] = (merged_dff['day_of_week'] >= 5).astype('int8')"
   ]
  },
  {
   "cell_type": "code",
   "execution_count": 23,
   "id": "ef0d327d-7c7f-473e-964c-d6cfbfa7102e",
   "metadata": {},
   "outputs": [
    {
     "name": "stdout",
     "output_type": "stream",
     "text": [
      "📊 Calculating rolling statistical features...\n"
     ]
    }
   ],
   "source": [
    "# === 8. rolling statistical features ===\n",
    "\n",
    "window_sizes = [12, 60, 360]  # in 5-second steps\n",
    "for window in window_sizes:\n",
    "    for col in ['anglez', 'enmo']:\n",
    "        merged_dff[f'{col}_mean_{window}s'] = merged_dff[col].rolling(window, min_periods=1).mean().astype('float32')\n",
    "        merged_dff[f'{col}_std_{window}s'] = merged_dff[col].rolling(window, min_periods=1).std().astype('float32')\n",
    "        merged_dff[f'{col}_min_{window}s'] = merged_dff[col].rolling(window, min_periods=1).min().astype('float32')\n",
    "        merged_dff[f'{col}_max_{window}s'] = merged_dff[col].rolling(window, min_periods=1).max().astype('float32')\n",
    "        merged_dff[f'{col}_median_{window}s'] = merged_dff[col].rolling(window, min_periods=1).median().astype('float32')\n",
    "        merged_dff[f'{col}_cumulative_{window}s'] = merged_dff[col].rolling(window, min_periods=1).sum().astype('float32')"
   ]
  },
  {
   "cell_type": "code",
   "execution_count": 25,
   "id": "ce879c1a-25af-4d33-a24c-ab6c1b7be3a7",
   "metadata": {},
   "outputs": [],
   "source": [
    "# === 9. Advanced Feature Engineering ===\n",
    "\n",
    "# is_night (as int8 for binary flag)\n",
    "merged_dff[\"is_night\"] = ((merged_dff[\"hour\"] >= 22) | (merged_dff[\"hour\"] <= 6)).astype('int8')\n",
    "\n",
    "# anglez_delta (as float32 to save memory)\n",
    "merged_dff[\"anglez_delta\"] = (merged_dff[\"anglez\"] - merged_dff[\"anglez\"].shift(1)).astype('float32')\n",
    "\n",
    "# SMA of enmo (Simple Moving Average), cast to float32\n",
    "sma_windows = [12, 60, 360]\n",
    "for window in sma_windows:\n",
    "    merged_dff[f'enmo_sma_{window}s'] = merged_dff['enmo'].rolling(window, min_periods=1).mean().astype('float32')\n",
    "\n",
    "# Lag Features (cast to float32 for efficiency)\n",
    "lag_targets = [\n",
    "    \"anglez\", \"enmo\",\n",
    "    \"anglez_mean_12s\", \"anglez_std_12s\",\n",
    "    \"enmo_mean_12s\", \"enmo_std_12s\",\n",
    "    \"anglez_mean_60s\", \"anglez_std_60s\",\n",
    "    \"enmo_mean_60s\", \"enmo_std_60s\"\n",
    "]\n",
    "lag_steps = [1, 2, 3]\n",
    "for col in lag_targets:\n",
    "    for lag in lag_steps:\n",
    "        merged_dff[f\"{col}_lag_{lag}\"] = merged_dff[col].shift(lag).astype('float32')"
   ]
  },
  {
   "cell_type": "code",
   "execution_count": 26,
   "id": "f3b88d4a-bf89-4908-bfc2-cd3cad4973fa",
   "metadata": {},
   "outputs": [],
   "source": [
    "# Check for NaNs\n",
    "na_cols = merged_dff.columns[merged_dff.isna().any()]\n",
    "\n",
    "# Fill only numeric columns with their median\n",
    "for col in na_cols:\n",
    "    if pd.api.types.is_numeric_dtype(merged_dff[col]):\n",
    "        merged_dff[col] = merged_dff[col].fillna(merged_dff[col].median())\n"
   ]
  },
  {
   "cell_type": "code",
   "execution_count": 27,
   "id": "70818289-7387-4c86-85c1-890b8be717ba",
   "metadata": {},
   "outputs": [
    {
     "name": "stdout",
     "output_type": "stream",
     "text": [
      "Noch NaNs übrig?\n",
      "Series([], dtype: int64)\n"
     ]
    }
   ],
   "source": [
    "print(\"Noch NaNs übrig?\")\n",
    "print(merged_dff.isna().sum()[merged_dff.isna().sum() > 0])"
   ]
  },
  {
   "cell_type": "code",
   "execution_count": 28,
   "id": "a5b5ef74-c358-4f04-9566-f165223257ab",
   "metadata": {},
   "outputs": [
    {
     "name": "stdout",
     "output_type": "stream",
     "text": [
      "<class 'pandas.core.frame.DataFrame'>\n",
      "RangeIndex: 25153553 entries, 0 to 25153552\n",
      "Data columns (total 83 columns):\n",
      " #   Column                      Dtype              \n",
      "---  ------                      -----              \n",
      " 0   series_id                   object             \n",
      " 1   step                        uint32             \n",
      " 2   timestamp                   datetime64[us, UTC]\n",
      " 3   anglez                      float32            \n",
      " 4   enmo                        float32            \n",
      " 5   night                       float64            \n",
      " 6   event                       object             \n",
      " 7   hour                        int8               \n",
      " 8   minute                      int8               \n",
      " 9   day_of_week                 int8               \n",
      " 10  elapsed_time_from_midnight  int32              \n",
      " 11  is_weekend                  int8               \n",
      " 12  anglez_mean_12s             float32            \n",
      " 13  anglez_std_12s              float32            \n",
      " 14  anglez_min_12s              float32            \n",
      " 15  anglez_max_12s              float32            \n",
      " 16  anglez_median_12s           float32            \n",
      " 17  anglez_cumulative_12s       float32            \n",
      " 18  enmo_mean_12s               float32            \n",
      " 19  enmo_std_12s                float32            \n",
      " 20  enmo_min_12s                float32            \n",
      " 21  enmo_max_12s                float32            \n",
      " 22  enmo_median_12s             float32            \n",
      " 23  enmo_cumulative_12s         float32            \n",
      " 24  anglez_mean_60s             float32            \n",
      " 25  anglez_std_60s              float32            \n",
      " 26  anglez_min_60s              float32            \n",
      " 27  anglez_max_60s              float32            \n",
      " 28  anglez_median_60s           float32            \n",
      " 29  anglez_cumulative_60s       float32            \n",
      " 30  enmo_mean_60s               float32            \n",
      " 31  enmo_std_60s                float32            \n",
      " 32  enmo_min_60s                float32            \n",
      " 33  enmo_max_60s                float32            \n",
      " 34  enmo_median_60s             float32            \n",
      " 35  enmo_cumulative_60s         float32            \n",
      " 36  anglez_mean_360s            float32            \n",
      " 37  anglez_std_360s             float32            \n",
      " 38  anglez_min_360s             float32            \n",
      " 39  anglez_max_360s             float32            \n",
      " 40  anglez_median_360s          float32            \n",
      " 41  anglez_cumulative_360s      float32            \n",
      " 42  enmo_mean_360s              float32            \n",
      " 43  enmo_std_360s               float32            \n",
      " 44  enmo_min_360s               float32            \n",
      " 45  enmo_max_360s               float32            \n",
      " 46  enmo_median_360s            float32            \n",
      " 47  enmo_cumulative_360s        float32            \n",
      " 48  is_night                    int8               \n",
      " 49  anglez_delta                float32            \n",
      " 50  enmo_sma_12s                float32            \n",
      " 51  enmo_sma_60s                float32            \n",
      " 52  enmo_sma_360s               float32            \n",
      " 53  anglez_lag_1                float32            \n",
      " 54  anglez_lag_2                float32            \n",
      " 55  anglez_lag_3                float32            \n",
      " 56  enmo_lag_1                  float32            \n",
      " 57  enmo_lag_2                  float32            \n",
      " 58  enmo_lag_3                  float32            \n",
      " 59  anglez_mean_12s_lag_1       float32            \n",
      " 60  anglez_mean_12s_lag_2       float32            \n",
      " 61  anglez_mean_12s_lag_3       float32            \n",
      " 62  anglez_std_12s_lag_1        float32            \n",
      " 63  anglez_std_12s_lag_2        float32            \n",
      " 64  anglez_std_12s_lag_3        float32            \n",
      " 65  enmo_mean_12s_lag_1         float32            \n",
      " 66  enmo_mean_12s_lag_2         float32            \n",
      " 67  enmo_mean_12s_lag_3         float32            \n",
      " 68  enmo_std_12s_lag_1          float32            \n",
      " 69  enmo_std_12s_lag_2          float32            \n",
      " 70  enmo_std_12s_lag_3          float32            \n",
      " 71  anglez_mean_60s_lag_1       float32            \n",
      " 72  anglez_mean_60s_lag_2       float32            \n",
      " 73  anglez_mean_60s_lag_3       float32            \n",
      " 74  anglez_std_60s_lag_1        float32            \n",
      " 75  anglez_std_60s_lag_2        float32            \n",
      " 76  anglez_std_60s_lag_3        float32            \n",
      " 77  enmo_mean_60s_lag_1         float32            \n",
      " 78  enmo_mean_60s_lag_2         float32            \n",
      " 79  enmo_mean_60s_lag_3         float32            \n",
      " 80  enmo_std_60s_lag_1          float32            \n",
      " 81  enmo_std_60s_lag_2          float32            \n",
      " 82  enmo_std_60s_lag_3          float32            \n",
      "dtypes: datetime64[us, UTC](1), float32(72), float64(1), int32(1), int8(5), object(2), uint32(1)\n",
      "memory usage: 7.8+ GB\n"
     ]
    }
   ],
   "source": [
    "merged_dff.info()"
   ]
  },
  {
   "cell_type": "code",
   "execution_count": 29,
   "id": "56a926ab-74b4-4aa9-91e9-365353daeaee",
   "metadata": {},
   "outputs": [],
   "source": [
    "# === 10. Targetvariables ===\n",
    "event_mapping = {\n",
    "    \"asleep\": 0,\n",
    "    \"awake\": 1,\n",
    "    \"onset\": 2,\n",
    "    \"wakeup\": 3\n",
    "}\n",
    "merged_dff[\"event\"] = merged_dff[\"event\"].map(event_mapping)\n",
    "\n",
    "# Binary Target für Classification: onset & wakeup = 1\n",
    "merged_dff[\"target\"] = merged_dff[\"event\"].apply(lambda x: 1 if x in [2, 3] else 0)\n"
   ]
  },
  {
   "cell_type": "code",
   "execution_count": 30,
   "id": "40156eb0-a2b2-403c-8998-9c03c93d27f1",
   "metadata": {},
   "outputs": [
    {
     "name": "stdout",
     "output_type": "stream",
     "text": [
      " Finales Preprocessed Dataset safed under: processed/merged_dff_gold84_V3.parquet\n"
     ]
    }
   ],
   "source": [
    "# === 11. Safe ===\n",
    "final_output = \"processed/merged_dff_gold84_V3.parquet\"\n",
    "merged_dff.to_parquet(final_output, index=False)\n",
    "print(f\" Finales Preprocessed Dataset safed under: {final_output}\")"
   ]
  },
  {
   "cell_type": "code",
   "execution_count": null,
   "id": "183b256c-b87f-4e89-aedf-42046941f621",
   "metadata": {},
   "outputs": [],
   "source": []
  }
 ],
 "metadata": {
  "kernelspec": {
   "display_name": "Python 3 (ipykernel)",
   "language": "python",
   "name": "python3"
  },
  "language_info": {
   "codemirror_mode": {
    "name": "ipython",
    "version": 3
   },
   "file_extension": ".py",
   "mimetype": "text/x-python",
   "name": "python",
   "nbconvert_exporter": "python",
   "pygments_lexer": "ipython3",
   "version": "3.12.9"
  }
 },
 "nbformat": 4,
 "nbformat_minor": 5
}
