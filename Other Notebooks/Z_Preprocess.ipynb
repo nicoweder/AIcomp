{
 "cells": [
  {
   "cell_type": "code",
   "execution_count": 1,
   "id": "66ed4905-f7b1-4b53-8cb4-53cfc4636eb0",
   "metadata": {},
   "outputs": [],
   "source": [
    "\n",
    "\n",
    "import pandas as pd\n",
    "import matplotlib.pyplot as plt\n",
    "import seaborn as sns\n",
    "from IPython.display import Markdown\n",
    "import gc\n",
    "\n"
   ]
  },
  {
   "cell_type": "code",
   "execution_count": 2,
   "id": "68b0b7af-81e8-4882-aa5d-7c675b7a515b",
   "metadata": {},
   "outputs": [],
   "source": [
    "train_events = pd.read_csv(\"data/train_events.csv\")"
   ]
  },
  {
   "cell_type": "code",
   "execution_count": 3,
   "id": "abd7b73b-37ed-4177-b5cc-b358320fa748",
   "metadata": {},
   "outputs": [
    {
     "data": {
      "text/plain": [
       "step\n",
       "True     240\n",
       "False     37\n",
       "Name: count, dtype: int64"
      ]
     },
     "execution_count": 3,
     "metadata": {},
     "output_type": "execute_result"
    }
   ],
   "source": [
    "\n",
    "\n",
    "series_has_NaN = train_events.groupby('series_id')['step'].apply(lambda x: x.isnull().any())\n",
    "series_has_NaN.value_counts()\n",
    "\n"
   ]
  },
  {
   "cell_type": "code",
   "execution_count": 4,
   "id": "cb50aa85-d994-4a2a-b7a1-b6d27ba52e4f",
   "metadata": {},
   "outputs": [
    {
     "data": {
      "text/plain": [
       "['08db4255286f',\n",
       " '0a96f4993bd7',\n",
       " '0cfc06c129cc',\n",
       " '1087d7b0ff2e',\n",
       " '10f8bc1f7b07',\n",
       " '18b61dd5aae8',\n",
       " '29c75c018220',\n",
       " '31011ade7c0a',\n",
       " '3452b878e596',\n",
       " '349c5562ee2c',\n",
       " '3664fe9233f9',\n",
       " '483d6545417f',\n",
       " '55a47ff9dc8a',\n",
       " '5acc9d63b5fd',\n",
       " '5f94bb3e1bed',\n",
       " '655f19eabf1e',\n",
       " '67f5fc60e494',\n",
       " '72bbd1ac3edf',\n",
       " '76237b9406d5',\n",
       " '7822ee8fe3ec',\n",
       " '89bd631d1769',\n",
       " '8e32047cbc1f',\n",
       " '939932f1822d',\n",
       " '9ee455e4770d',\n",
       " 'a596ad0b82aa',\n",
       " 'a9a2f7fac455',\n",
       " 'a9e5f5314bcb',\n",
       " 'af91d9a50547',\n",
       " 'b364205aba43',\n",
       " 'c535634d7dcd',\n",
       " 'c6788e579967',\n",
       " 'c68260cc9e8f',\n",
       " 'ca730dbf521d',\n",
       " 'd150801f3145',\n",
       " 'd25e479ecbb7',\n",
       " 'd515236bdeec',\n",
       " 'd5e47b94477e']"
      ]
     },
     "execution_count": 4,
     "metadata": {},
     "output_type": "execute_result"
    }
   ],
   "source": [
    "\n",
    "\n",
    "no_NaN_series = series_has_NaN[~series_has_NaN].index.tolist()\n",
    "no_NaN_series\n",
    "\n"
   ]
  },
  {
   "cell_type": "code",
   "execution_count": 5,
   "id": "d2521604-6a81-4d14-92a9-29d4d7655bab",
   "metadata": {},
   "outputs": [],
   "source": [
    "\n",
    "\n",
    "# also drop these two \"truncated\" events series seen in EDA:\n",
    "no_NaN_series.remove('31011ade7c0a') # incomplete events data\n",
    "no_NaN_series.remove('a596ad0b82aa') # incomplete events data\n",
    "\n"
   ]
  },
  {
   "cell_type": "code",
   "execution_count": 6,
   "id": "3e24cba9-0353-4165-a3e0-13b57f733584",
   "metadata": {},
   "outputs": [],
   "source": [
    "def get_train_series(series):\n",
    "    train_series = pd.read_parquet(\"data/train_series.parquet\", filters=[('series_id','=',series)])\n",
    "    train_events = pd.read_csv(\"data/train_events.csv\").query('series_id == @series')\n",
    "    \n",
    "    train_events = train_events.dropna()\n",
    "    train_events[\"step\"]  = train_events[\"step\"].astype(\"int\")\n",
    "    train_events[\"awake\"] = train_events[\"event\"].replace({\"onset\":1,\"wakeup\":0})\n",
    "\n",
    "    train = pd.merge(train_series, train_events[['step','awake']], on='step', how='left')\n",
    "    train[\"awake\"] = train[\"awake\"].bfill(axis ='rows')\n",
    "    # final section:\n",
    "    # train_events.groupby('series_id').tail(1)[\"event\"].unique()\n",
    "    # Result: the last event is always a \"wakeup\"\n",
    "    train['awake'] = train['awake'].fillna(1) # awake\n",
    "    train[\"awake\"] = train[\"awake\"].astype(\"int\")\n",
    "    return(train)"
   ]
  },
  {
   "cell_type": "code",
   "execution_count": 7,
   "id": "2ca5a98d-e034-49b6-9def-cced562bdd42",
   "metadata": {},
   "outputs": [
    {
     "name": "stderr",
     "output_type": "stream",
     "text": [
      "/tmp/ipykernel_21999/1436171923.py:7: FutureWarning: Downcasting behavior in `replace` is deprecated and will be removed in a future version. To retain the old behavior, explicitly call `result.infer_objects(copy=False)`. To opt-in to the future behavior, set `pd.set_option('future.no_silent_downcasting', True)`\n",
      "  train_events[\"awake\"] = train_events[\"event\"].replace({\"onset\":1,\"wakeup\":0})\n",
      "/tmp/ipykernel_21999/1436171923.py:7: FutureWarning: Downcasting behavior in `replace` is deprecated and will be removed in a future version. To retain the old behavior, explicitly call `result.infer_objects(copy=False)`. To opt-in to the future behavior, set `pd.set_option('future.no_silent_downcasting', True)`\n",
      "  train_events[\"awake\"] = train_events[\"event\"].replace({\"onset\":1,\"wakeup\":0})\n",
      "/tmp/ipykernel_21999/1436171923.py:7: FutureWarning: Downcasting behavior in `replace` is deprecated and will be removed in a future version. To retain the old behavior, explicitly call `result.infer_objects(copy=False)`. To opt-in to the future behavior, set `pd.set_option('future.no_silent_downcasting', True)`\n",
      "  train_events[\"awake\"] = train_events[\"event\"].replace({\"onset\":1,\"wakeup\":0})\n",
      "/tmp/ipykernel_21999/1436171923.py:7: FutureWarning: Downcasting behavior in `replace` is deprecated and will be removed in a future version. To retain the old behavior, explicitly call `result.infer_objects(copy=False)`. To opt-in to the future behavior, set `pd.set_option('future.no_silent_downcasting', True)`\n",
      "  train_events[\"awake\"] = train_events[\"event\"].replace({\"onset\":1,\"wakeup\":0})\n",
      "/tmp/ipykernel_21999/1436171923.py:7: FutureWarning: Downcasting behavior in `replace` is deprecated and will be removed in a future version. To retain the old behavior, explicitly call `result.infer_objects(copy=False)`. To opt-in to the future behavior, set `pd.set_option('future.no_silent_downcasting', True)`\n",
      "  train_events[\"awake\"] = train_events[\"event\"].replace({\"onset\":1,\"wakeup\":0})\n",
      "/tmp/ipykernel_21999/1436171923.py:7: FutureWarning: Downcasting behavior in `replace` is deprecated and will be removed in a future version. To retain the old behavior, explicitly call `result.infer_objects(copy=False)`. To opt-in to the future behavior, set `pd.set_option('future.no_silent_downcasting', True)`\n",
      "  train_events[\"awake\"] = train_events[\"event\"].replace({\"onset\":1,\"wakeup\":0})\n",
      "/tmp/ipykernel_21999/1436171923.py:7: FutureWarning: Downcasting behavior in `replace` is deprecated and will be removed in a future version. To retain the old behavior, explicitly call `result.infer_objects(copy=False)`. To opt-in to the future behavior, set `pd.set_option('future.no_silent_downcasting', True)`\n",
      "  train_events[\"awake\"] = train_events[\"event\"].replace({\"onset\":1,\"wakeup\":0})\n",
      "/tmp/ipykernel_21999/1436171923.py:7: FutureWarning: Downcasting behavior in `replace` is deprecated and will be removed in a future version. To retain the old behavior, explicitly call `result.infer_objects(copy=False)`. To opt-in to the future behavior, set `pd.set_option('future.no_silent_downcasting', True)`\n",
      "  train_events[\"awake\"] = train_events[\"event\"].replace({\"onset\":1,\"wakeup\":0})\n",
      "/tmp/ipykernel_21999/1436171923.py:7: FutureWarning: Downcasting behavior in `replace` is deprecated and will be removed in a future version. To retain the old behavior, explicitly call `result.infer_objects(copy=False)`. To opt-in to the future behavior, set `pd.set_option('future.no_silent_downcasting', True)`\n",
      "  train_events[\"awake\"] = train_events[\"event\"].replace({\"onset\":1,\"wakeup\":0})\n",
      "/tmp/ipykernel_21999/1436171923.py:7: FutureWarning: Downcasting behavior in `replace` is deprecated and will be removed in a future version. To retain the old behavior, explicitly call `result.infer_objects(copy=False)`. To opt-in to the future behavior, set `pd.set_option('future.no_silent_downcasting', True)`\n",
      "  train_events[\"awake\"] = train_events[\"event\"].replace({\"onset\":1,\"wakeup\":0})\n",
      "/tmp/ipykernel_21999/1436171923.py:7: FutureWarning: Downcasting behavior in `replace` is deprecated and will be removed in a future version. To retain the old behavior, explicitly call `result.infer_objects(copy=False)`. To opt-in to the future behavior, set `pd.set_option('future.no_silent_downcasting', True)`\n",
      "  train_events[\"awake\"] = train_events[\"event\"].replace({\"onset\":1,\"wakeup\":0})\n",
      "/tmp/ipykernel_21999/1436171923.py:7: FutureWarning: Downcasting behavior in `replace` is deprecated and will be removed in a future version. To retain the old behavior, explicitly call `result.infer_objects(copy=False)`. To opt-in to the future behavior, set `pd.set_option('future.no_silent_downcasting', True)`\n",
      "  train_events[\"awake\"] = train_events[\"event\"].replace({\"onset\":1,\"wakeup\":0})\n",
      "/tmp/ipykernel_21999/1436171923.py:7: FutureWarning: Downcasting behavior in `replace` is deprecated and will be removed in a future version. To retain the old behavior, explicitly call `result.infer_objects(copy=False)`. To opt-in to the future behavior, set `pd.set_option('future.no_silent_downcasting', True)`\n",
      "  train_events[\"awake\"] = train_events[\"event\"].replace({\"onset\":1,\"wakeup\":0})\n",
      "/tmp/ipykernel_21999/1436171923.py:7: FutureWarning: Downcasting behavior in `replace` is deprecated and will be removed in a future version. To retain the old behavior, explicitly call `result.infer_objects(copy=False)`. To opt-in to the future behavior, set `pd.set_option('future.no_silent_downcasting', True)`\n",
      "  train_events[\"awake\"] = train_events[\"event\"].replace({\"onset\":1,\"wakeup\":0})\n",
      "/tmp/ipykernel_21999/1436171923.py:7: FutureWarning: Downcasting behavior in `replace` is deprecated and will be removed in a future version. To retain the old behavior, explicitly call `result.infer_objects(copy=False)`. To opt-in to the future behavior, set `pd.set_option('future.no_silent_downcasting', True)`\n",
      "  train_events[\"awake\"] = train_events[\"event\"].replace({\"onset\":1,\"wakeup\":0})\n",
      "/tmp/ipykernel_21999/1436171923.py:7: FutureWarning: Downcasting behavior in `replace` is deprecated and will be removed in a future version. To retain the old behavior, explicitly call `result.infer_objects(copy=False)`. To opt-in to the future behavior, set `pd.set_option('future.no_silent_downcasting', True)`\n",
      "  train_events[\"awake\"] = train_events[\"event\"].replace({\"onset\":1,\"wakeup\":0})\n",
      "/tmp/ipykernel_21999/1436171923.py:7: FutureWarning: Downcasting behavior in `replace` is deprecated and will be removed in a future version. To retain the old behavior, explicitly call `result.infer_objects(copy=False)`. To opt-in to the future behavior, set `pd.set_option('future.no_silent_downcasting', True)`\n",
      "  train_events[\"awake\"] = train_events[\"event\"].replace({\"onset\":1,\"wakeup\":0})\n",
      "/tmp/ipykernel_21999/1436171923.py:7: FutureWarning: Downcasting behavior in `replace` is deprecated and will be removed in a future version. To retain the old behavior, explicitly call `result.infer_objects(copy=False)`. To opt-in to the future behavior, set `pd.set_option('future.no_silent_downcasting', True)`\n",
      "  train_events[\"awake\"] = train_events[\"event\"].replace({\"onset\":1,\"wakeup\":0})\n",
      "/tmp/ipykernel_21999/1436171923.py:7: FutureWarning: Downcasting behavior in `replace` is deprecated and will be removed in a future version. To retain the old behavior, explicitly call `result.infer_objects(copy=False)`. To opt-in to the future behavior, set `pd.set_option('future.no_silent_downcasting', True)`\n",
      "  train_events[\"awake\"] = train_events[\"event\"].replace({\"onset\":1,\"wakeup\":0})\n",
      "/tmp/ipykernel_21999/1436171923.py:7: FutureWarning: Downcasting behavior in `replace` is deprecated and will be removed in a future version. To retain the old behavior, explicitly call `result.infer_objects(copy=False)`. To opt-in to the future behavior, set `pd.set_option('future.no_silent_downcasting', True)`\n",
      "  train_events[\"awake\"] = train_events[\"event\"].replace({\"onset\":1,\"wakeup\":0})\n",
      "/tmp/ipykernel_21999/1436171923.py:7: FutureWarning: Downcasting behavior in `replace` is deprecated and will be removed in a future version. To retain the old behavior, explicitly call `result.infer_objects(copy=False)`. To opt-in to the future behavior, set `pd.set_option('future.no_silent_downcasting', True)`\n",
      "  train_events[\"awake\"] = train_events[\"event\"].replace({\"onset\":1,\"wakeup\":0})\n",
      "/tmp/ipykernel_21999/1436171923.py:7: FutureWarning: Downcasting behavior in `replace` is deprecated and will be removed in a future version. To retain the old behavior, explicitly call `result.infer_objects(copy=False)`. To opt-in to the future behavior, set `pd.set_option('future.no_silent_downcasting', True)`\n",
      "  train_events[\"awake\"] = train_events[\"event\"].replace({\"onset\":1,\"wakeup\":0})\n",
      "/tmp/ipykernel_21999/1436171923.py:7: FutureWarning: Downcasting behavior in `replace` is deprecated and will be removed in a future version. To retain the old behavior, explicitly call `result.infer_objects(copy=False)`. To opt-in to the future behavior, set `pd.set_option('future.no_silent_downcasting', True)`\n",
      "  train_events[\"awake\"] = train_events[\"event\"].replace({\"onset\":1,\"wakeup\":0})\n",
      "/tmp/ipykernel_21999/1436171923.py:7: FutureWarning: Downcasting behavior in `replace` is deprecated and will be removed in a future version. To retain the old behavior, explicitly call `result.infer_objects(copy=False)`. To opt-in to the future behavior, set `pd.set_option('future.no_silent_downcasting', True)`\n",
      "  train_events[\"awake\"] = train_events[\"event\"].replace({\"onset\":1,\"wakeup\":0})\n",
      "/tmp/ipykernel_21999/1436171923.py:7: FutureWarning: Downcasting behavior in `replace` is deprecated and will be removed in a future version. To retain the old behavior, explicitly call `result.infer_objects(copy=False)`. To opt-in to the future behavior, set `pd.set_option('future.no_silent_downcasting', True)`\n",
      "  train_events[\"awake\"] = train_events[\"event\"].replace({\"onset\":1,\"wakeup\":0})\n",
      "/tmp/ipykernel_21999/1436171923.py:7: FutureWarning: Downcasting behavior in `replace` is deprecated and will be removed in a future version. To retain the old behavior, explicitly call `result.infer_objects(copy=False)`. To opt-in to the future behavior, set `pd.set_option('future.no_silent_downcasting', True)`\n",
      "  train_events[\"awake\"] = train_events[\"event\"].replace({\"onset\":1,\"wakeup\":0})\n",
      "/tmp/ipykernel_21999/1436171923.py:7: FutureWarning: Downcasting behavior in `replace` is deprecated and will be removed in a future version. To retain the old behavior, explicitly call `result.infer_objects(copy=False)`. To opt-in to the future behavior, set `pd.set_option('future.no_silent_downcasting', True)`\n",
      "  train_events[\"awake\"] = train_events[\"event\"].replace({\"onset\":1,\"wakeup\":0})\n",
      "/tmp/ipykernel_21999/1436171923.py:7: FutureWarning: Downcasting behavior in `replace` is deprecated and will be removed in a future version. To retain the old behavior, explicitly call `result.infer_objects(copy=False)`. To opt-in to the future behavior, set `pd.set_option('future.no_silent_downcasting', True)`\n",
      "  train_events[\"awake\"] = train_events[\"event\"].replace({\"onset\":1,\"wakeup\":0})\n",
      "/tmp/ipykernel_21999/1436171923.py:7: FutureWarning: Downcasting behavior in `replace` is deprecated and will be removed in a future version. To retain the old behavior, explicitly call `result.infer_objects(copy=False)`. To opt-in to the future behavior, set `pd.set_option('future.no_silent_downcasting', True)`\n",
      "  train_events[\"awake\"] = train_events[\"event\"].replace({\"onset\":1,\"wakeup\":0})\n",
      "/tmp/ipykernel_21999/1436171923.py:7: FutureWarning: Downcasting behavior in `replace` is deprecated and will be removed in a future version. To retain the old behavior, explicitly call `result.infer_objects(copy=False)`. To opt-in to the future behavior, set `pd.set_option('future.no_silent_downcasting', True)`\n",
      "  train_events[\"awake\"] = train_events[\"event\"].replace({\"onset\":1,\"wakeup\":0})\n",
      "/tmp/ipykernel_21999/1436171923.py:7: FutureWarning: Downcasting behavior in `replace` is deprecated and will be removed in a future version. To retain the old behavior, explicitly call `result.infer_objects(copy=False)`. To opt-in to the future behavior, set `pd.set_option('future.no_silent_downcasting', True)`\n",
      "  train_events[\"awake\"] = train_events[\"event\"].replace({\"onset\":1,\"wakeup\":0})\n",
      "/tmp/ipykernel_21999/1436171923.py:7: FutureWarning: Downcasting behavior in `replace` is deprecated and will be removed in a future version. To retain the old behavior, explicitly call `result.infer_objects(copy=False)`. To opt-in to the future behavior, set `pd.set_option('future.no_silent_downcasting', True)`\n",
      "  train_events[\"awake\"] = train_events[\"event\"].replace({\"onset\":1,\"wakeup\":0})\n",
      "/tmp/ipykernel_21999/1436171923.py:7: FutureWarning: Downcasting behavior in `replace` is deprecated and will be removed in a future version. To retain the old behavior, explicitly call `result.infer_objects(copy=False)`. To opt-in to the future behavior, set `pd.set_option('future.no_silent_downcasting', True)`\n",
      "  train_events[\"awake\"] = train_events[\"event\"].replace({\"onset\":1,\"wakeup\":0})\n",
      "/tmp/ipykernel_21999/1436171923.py:7: FutureWarning: Downcasting behavior in `replace` is deprecated and will be removed in a future version. To retain the old behavior, explicitly call `result.infer_objects(copy=False)`. To opt-in to the future behavior, set `pd.set_option('future.no_silent_downcasting', True)`\n",
      "  train_events[\"awake\"] = train_events[\"event\"].replace({\"onset\":1,\"wakeup\":0})\n",
      "/tmp/ipykernel_21999/1436171923.py:7: FutureWarning: Downcasting behavior in `replace` is deprecated and will be removed in a future version. To retain the old behavior, explicitly call `result.infer_objects(copy=False)`. To opt-in to the future behavior, set `pd.set_option('future.no_silent_downcasting', True)`\n",
      "  train_events[\"awake\"] = train_events[\"event\"].replace({\"onset\":1,\"wakeup\":0})\n"
     ]
    }
   ],
   "source": [
    "smaller_train_data = []\n",
    "\n",
    "for series_id in no_NaN_series:\n",
    "    train = get_train_series(series_id)\n",
    "    smaller_train_data.append(train)"
   ]
  },
  {
   "cell_type": "code",
   "execution_count": 8,
   "id": "24fdf05f-b275-44a1-ac2b-4977c17d00e5",
   "metadata": {},
   "outputs": [
    {
     "data": {
      "text/plain": [
       "35"
      ]
     },
     "execution_count": 8,
     "metadata": {},
     "output_type": "execute_result"
    }
   ],
   "source": [
    "\n",
    "\n",
    "Zzzs_train = pd.concat(smaller_train_data).reset_index(drop=True)\n",
    "Zzzs_train[\"series_id\"].nunique()\n",
    "\n",
    "\n",
    "\n",
    "Zzzs_train.to_parquet('processed/Zzzs_train.parquet')\n",
    "\n"
   ]
  },
  {
   "cell_type": "code",
   "execution_count": 9,
   "id": "20963d6e-4c26-464d-91b1-98125a47edae",
   "metadata": {},
   "outputs": [
    {
     "data": {
      "text/plain": [
       "['0f9e60a8e56d',\n",
       " 'c7b1283bb7eb',\n",
       " '89c7daa72eee',\n",
       " '390b487231ce',\n",
       " 'a3e59c2ce3f6',\n",
       " 'c5d08fc3e040',\n",
       " 'e11b9d69f856',\n",
       " '2fc653ca75c7']"
      ]
     },
     "execution_count": 9,
     "metadata": {},
     "output_type": "execute_result"
    }
   ],
   "source": [
    "\n",
    "train_series_names = pd.read_parquet(\"data/train_series.parquet\", columns=['series_id'])\n",
    "series_id_list = train_series_names['series_id'].unique().tolist()\n",
    "\n",
    "train_events = train_events.dropna()\n",
    "events_series_id_list = train_events['series_id'].unique().tolist()\n",
    "\n",
    "base_series = list(set(series_id_list) - set(events_series_id_list))\n",
    "\n",
    "# list out the series:\n",
    "base_series\n",
    "\n"
   ]
  },
  {
   "cell_type": "code",
   "execution_count": 10,
   "id": "266a9c5d-802a-4e04-8e2e-b964b9d6c30d",
   "metadata": {},
   "outputs": [],
   "source": [
    "def get_train_series_base(series):\n",
    "    train = pd.read_parquet(\"data/train_series.parquet\", filters=[('series_id','=',series)])\n",
    "    train[\"awake\"] = 2\n",
    "    # just to make sure\n",
    "    train[\"awake\"] = train[\"awake\"].astype(\"int\")\n",
    "    return(train)"
   ]
  },
  {
   "cell_type": "code",
   "execution_count": 11,
   "id": "6ba80738-5572-45b7-b81e-5eada61c83af",
   "metadata": {},
   "outputs": [],
   "source": [
    "base_train_data = []\n",
    "\n",
    "for series_id in base_series:\n",
    "    train = get_train_series_base(series_id)\n",
    "    base_train_data.append(train)"
   ]
  },
  {
   "cell_type": "code",
   "execution_count": 12,
   "id": "f74bcab0-15b9-4eae-abb4-91a318632156",
   "metadata": {},
   "outputs": [],
   "source": [
    "\n",
    "\n",
    "Zzzs_base = pd.concat(base_train_data).reset_index(drop=True)\n",
    "# combine the 35 series from before with the 8 series that have no event data\n",
    "Zzzs_train_multi = pd.concat([Zzzs_train,Zzzs_base]).reset_index(drop=True)"
   ]
  },
  {
   "cell_type": "code",
   "execution_count": 13,
   "id": "9c15ef49-0882-4456-bc3e-c2c6fd67cca7",
   "metadata": {},
   "outputs": [],
   "source": [
    "\n",
    "\n",
    "Zzzs_train_multi.to_parquet('processed/Zzzs_train_multi.parquet')\n",
    "\n"
   ]
  },
  {
   "cell_type": "code",
   "execution_count": 14,
   "id": "34b86452-def8-48a3-8728-02f43da43e69",
   "metadata": {},
   "outputs": [
    {
     "data": {
      "text/html": [
       "<div>\n",
       "<style scoped>\n",
       "    .dataframe tbody tr th:only-of-type {\n",
       "        vertical-align: middle;\n",
       "    }\n",
       "\n",
       "    .dataframe tbody tr th {\n",
       "        vertical-align: top;\n",
       "    }\n",
       "\n",
       "    .dataframe thead th {\n",
       "        text-align: right;\n",
       "    }\n",
       "</style>\n",
       "<table border=\"1\" class=\"dataframe\">\n",
       "  <thead>\n",
       "    <tr style=\"text-align: right;\">\n",
       "      <th></th>\n",
       "      <th>series_id</th>\n",
       "      <th>step</th>\n",
       "      <th>timestamp</th>\n",
       "      <th>anglez</th>\n",
       "      <th>enmo</th>\n",
       "      <th>awake</th>\n",
       "    </tr>\n",
       "  </thead>\n",
       "  <tbody>\n",
       "    <tr>\n",
       "      <th>0</th>\n",
       "      <td>08db4255286f</td>\n",
       "      <td>0</td>\n",
       "      <td>2018-11-05T10:00:00-0400</td>\n",
       "      <td>-30.845301</td>\n",
       "      <td>0.0447</td>\n",
       "      <td>1</td>\n",
       "    </tr>\n",
       "    <tr>\n",
       "      <th>1</th>\n",
       "      <td>08db4255286f</td>\n",
       "      <td>1</td>\n",
       "      <td>2018-11-05T10:00:05-0400</td>\n",
       "      <td>-34.181801</td>\n",
       "      <td>0.0443</td>\n",
       "      <td>1</td>\n",
       "    </tr>\n",
       "    <tr>\n",
       "      <th>2</th>\n",
       "      <td>08db4255286f</td>\n",
       "      <td>2</td>\n",
       "      <td>2018-11-05T10:00:10-0400</td>\n",
       "      <td>-33.877102</td>\n",
       "      <td>0.0483</td>\n",
       "      <td>1</td>\n",
       "    </tr>\n",
       "    <tr>\n",
       "      <th>3</th>\n",
       "      <td>08db4255286f</td>\n",
       "      <td>3</td>\n",
       "      <td>2018-11-05T10:00:15-0400</td>\n",
       "      <td>-34.282101</td>\n",
       "      <td>0.0680</td>\n",
       "      <td>1</td>\n",
       "    </tr>\n",
       "    <tr>\n",
       "      <th>4</th>\n",
       "      <td>08db4255286f</td>\n",
       "      <td>4</td>\n",
       "      <td>2018-11-05T10:00:20-0400</td>\n",
       "      <td>-34.385799</td>\n",
       "      <td>0.0768</td>\n",
       "      <td>1</td>\n",
       "    </tr>\n",
       "  </tbody>\n",
       "</table>\n",
       "</div>"
      ],
      "text/plain": [
       "      series_id  step                 timestamp     anglez    enmo  awake\n",
       "0  08db4255286f     0  2018-11-05T10:00:00-0400 -30.845301  0.0447      1\n",
       "1  08db4255286f     1  2018-11-05T10:00:05-0400 -34.181801  0.0443      1\n",
       "2  08db4255286f     2  2018-11-05T10:00:10-0400 -33.877102  0.0483      1\n",
       "3  08db4255286f     3  2018-11-05T10:00:15-0400 -34.282101  0.0680      1\n",
       "4  08db4255286f     4  2018-11-05T10:00:20-0400 -34.385799  0.0768      1"
      ]
     },
     "execution_count": 14,
     "metadata": {},
     "output_type": "execute_result"
    }
   ],
   "source": [
    "Zzzs_train_multi.head()"
   ]
  },
  {
   "cell_type": "code",
   "execution_count": null,
   "id": "64895858-dba9-4316-be16-359473d1d3b3",
   "metadata": {},
   "outputs": [],
   "source": []
  }
 ],
 "metadata": {
  "kernelspec": {
   "display_name": "Python 3 (ipykernel)",
   "language": "python",
   "name": "python3"
  },
  "language_info": {
   "codemirror_mode": {
    "name": "ipython",
    "version": 3
   },
   "file_extension": ".py",
   "mimetype": "text/x-python",
   "name": "python",
   "nbconvert_exporter": "python",
   "pygments_lexer": "ipython3",
   "version": "3.12.9"
  }
 },
 "nbformat": 4,
 "nbformat_minor": 5
}
