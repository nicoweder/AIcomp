{
 "cells": [
  {
   "cell_type": "code",
   "execution_count": 1,
   "id": "e2826930-cd2c-43f0-b5a6-4425a0d090c1",
   "metadata": {},
   "outputs": [
    {
     "name": "stdout",
     "output_type": "stream",
     "text": [
      "Requirement already satisfied: xgboost in /opt/conda/lib/python3.12/site-packages (3.0.0)\n",
      "Requirement already satisfied: numpy in /opt/conda/lib/python3.12/site-packages (from xgboost) (2.1.3)\n",
      "Requirement already satisfied: nvidia-nccl-cu12 in /opt/conda/lib/python3.12/site-packages (from xgboost) (2.21.5)\n",
      "Requirement already satisfied: scipy in /opt/conda/lib/python3.12/site-packages (from xgboost) (1.15.2)\n"
     ]
    }
   ],
   "source": [
    "!pip install xgboost\n"
   ]
  },
  {
   "cell_type": "code",
   "execution_count": 2,
   "id": "3e59f963-a253-4bb4-95e0-7b9ccdeb4681",
   "metadata": {},
   "outputs": [],
   "source": [
    "import pandas as pd\n",
    "import numpy as np\n",
    "import matplotlib.pyplot as plt\n",
    "import seaborn as sns\n",
    "from tqdm import tqdm\n",
    "from event_detection_ap import score, ParticipantVisibleError\n",
    "import numpy as np\n",
    "import pandas as pd\n",
    "import xgboost as xgb\n",
    "from sklearn.model_selection import TimeSeriesSplit, train_test_split\n",
    "from tqdm.notebook import tqdm\n",
    "import matplotlib.pyplot as plt\n",
    "import joblib\n",
    "from sklearn.model_selection import GroupKFold\n",
    "from datetime import datetime\n",
    "import gc\n",
    "from sklearn.utils.class_weight import compute_sample_weight\n",
    "from sklearn.metrics import precision_recall_curve, precision_score, recall_score, f1_score\n"
   ]
  },
  {
   "cell_type": "code",
   "execution_count": 3,
   "id": "a615f3fb-a079-49e1-a7fd-cac1ffdd4c72",
   "metadata": {},
   "outputs": [],
   "source": [
    "# Parameter\n",
    "N_SPLITS = 5\n",
    "\n",
    "\n",
    "# Dateipfade\n",
    "DATA_PATH = \"processed/merged_dff_gold84_V3.parquet\"\n",
    "\n",
    "EVENTS_PATH = \"processed/event_cleaned.csv\"\n"
   ]
  },
  {
   "cell_type": "code",
   "execution_count": 4,
   "id": "a02030b7-ace9-400c-a889-1fcadcb06ab0",
   "metadata": {},
   "outputs": [],
   "source": [
    "def postprocess_predictions(y_probs, threshold):\n",
    "    # Apply threshold to the probabilities\n",
    "    y_pred = (y_probs >= threshold).astype(int)\n",
    "    return np.where(y_pred == 1)[0]  # Return indices where predictions are 1"
   ]
  },
  {
   "cell_type": "code",
   "execution_count": 5,
   "id": "111dde1a-439e-440f-ab1c-6f99e27bcb3b",
   "metadata": {},
   "outputs": [],
   "source": [
    "\n",
    "def candidate_windowing(df):\n",
    "    df[\"step_int\"] = df[\"step\"].astype(int)\n",
    "    df[\"step_offset\"] = df.groupby(\"series_id\")[\"step_int\"].transform(lambda x: x - x.min())\n",
    "    return df[df[\"step_offset\"] % 3 == 0].reset_index(drop=True)"
   ]
  },
  {
   "cell_type": "code",
   "execution_count": 6,
   "id": "b9b94b42-7847-45fe-843c-491ed21fd13c",
   "metadata": {},
   "outputs": [],
   "source": [
    "def expand_labels(df, radius=4):\n",
    "    def expand_group(group):\n",
    "        target_array = group[\"target\"].values.copy()\n",
    "        shifted_targets = {}\n",
    "        for shift in range(1, radius + 1):\n",
    "            shifted_targets[f\"minus_{shift}\"] = group[\"target\"].shift(-shift, fill_value=0).values\n",
    "            shifted_targets[f\"plus_{shift}\"] = group[\"target\"].shift(shift, fill_value=0).values\n",
    "\n",
    "        # apply shifts without fragmenting the dataframe\n",
    "        for values in shifted_targets.values():\n",
    "            target_array |= values\n",
    "\n",
    "        group = group.copy()  \n",
    "        group[\"target\"] = target_array\n",
    "        return group\n",
    "\n",
    "    df = df.groupby(\"series_id\", group_keys=False).apply(expand_group)\n",
    "    return df"
   ]
  },
  {
   "cell_type": "code",
   "execution_count": 7,
   "id": "64eb9aee-5abf-4c43-94aa-8ab6d4c5a78f",
   "metadata": {},
   "outputs": [],
   "source": [
    "df = pd.read_parquet(DATA_PATH)\n"
   ]
  },
  {
   "cell_type": "code",
   "execution_count": 8,
   "id": "48dfcb03-ac16-4fcd-870a-47e038eadad5",
   "metadata": {},
   "outputs": [],
   "source": [
    "# Feature Set\n",
    "final_preset = [\n",
    "    \"anglez\", \"enmo\", \"hour\", \"minute\", \"is_night\", \"is_weekend\",\n",
    "    \"anglez_delta\", \"anglez_lag_1\", \"enmo_lag_1\",\n",
    "    \"anglez_mean_60s\", \"enmo_mean_60s\", \"enmo_std_60s\",\n",
    "    \"anglez_min_60s\", \"enmo_max_60s\",\n",
    "    \"enmo_cumulative_60s\", \"enmo_sma_60s\",\n",
    "    \"enmo_mean_12s_lag_1\", \"anglez_std_60s_lag_1\"\n",
    "]"
   ]
  },
  {
   "cell_type": "code",
   "execution_count": 9,
   "id": "40bafd32-7c32-4424-95c7-29ba16d28851",
   "metadata": {},
   "outputs": [
    {
     "name": "stdout",
     "output_type": "stream",
     "text": [
      "[]\n"
     ]
    }
   ],
   "source": [
    "missing_features = [feat for feat in final_preset if feat not in df.columns]\n",
    "print(missing_features)"
   ]
  },
  {
   "cell_type": "code",
   "execution_count": 10,
   "id": "21d12013-04e0-4eea-b6de-84a0f83c2fa8",
   "metadata": {},
   "outputs": [],
   "source": [
    "def run_experiment_simple(\n",
    "    feature_set,\n",
    "    radius=6,\n",
    "    model_params=None,\n",
    "    save_results=True\n",
    "):\n",
    "    df_exp = candidate_windowing(df)\n",
    "    df_exp = expand_labels(df_exp, radius=radius)\n",
    "    X = df_exp[feature_set].astype(np.float32)\n",
    "    y = df_exp[\"target\"]\n",
    "    groups = df_exp[\"series_id\"]\n",
    "    meta = df_exp[[\"series_id\", \"step\"]].copy()\n",
    "\n",
    "    gkf = GroupKFold(n_splits=N_SPLITS)\n",
    "\n",
    "    all_preds = []\n",
    "    all_true = []\n",
    "    all_probs = []\n",
    "    all_meta = []\n",
    "    all_best_thresholds = []  # Store the best threshold for each fold\n",
    "\n",
    "    for fold, (train_idx, val_idx) in enumerate(gkf.split(X, y, groups=groups)):\n",
    "        X_train, X_val = X.iloc[train_idx], X.iloc[val_idx]\n",
    "        y_train, y_val = y.iloc[train_idx], y.iloc[val_idx]\n",
    "        meta_val = meta.iloc[val_idx]\n",
    "\n",
    "        if model_params is None:\n",
    "            model_params = {\n",
    "                \"objective\": \"binary:logistic\",\n",
    "                \"n_estimators\": 200,\n",
    "                \"max_depth\": 6,\n",
    "                \"learning_rate\": 0.05,\n",
    "                \"eval_metric\": \"logloss\",\n",
    "                \"tree_method\": \"hist\",\n",
    "                \"scale_pos_weight\": 170,\n",
    "                \"random_state\": 42,\n",
    "            }\n",
    "\n",
    "        model = xgb.XGBClassifier(**model_params)\n",
    "        weights = compute_sample_weight(\"balanced\", y_train)\n",
    "        model.fit(X_train, y_train, sample_weight=weights)\n",
    "\n",
    "        y_probs = model.predict_proba(X_val)[:, 1]\n",
    "\n",
    "        # Threshold optimization\n",
    "        prec, rec, thresholds_pr = precision_recall_curve(y_val, y_probs)\n",
    "        \n",
    "        \n",
    "        valid = rec[:-1] >= 0.85  # -1 because rec is longer than thresholds\n",
    "        if np.any(valid):\n",
    "            prec_valid = prec[:-1][valid]\n",
    "            thresholds_valid = thresholds_pr[valid]\n",
    "            best_idx = np.argmax(prec_valid)\n",
    "            best_threshold = thresholds_valid[best_idx]\n",
    "        else:\n",
    "            # Fallback: choose threshold with best F1 score\n",
    "            f1s = 2 * (prec * rec) / (prec + rec + 1e-8)\n",
    "            best_threshold = thresholds_pr[np.argmax(f1s)]\n",
    "\n",
    "        all_best_thresholds.append(best_threshold)\n",
    "\n",
    "        # Apply best threshold\n",
    "        y_pred = (y_probs >= best_threshold).astype(int)\n",
    "\n",
    "        all_probs.extend(y_probs)\n",
    "        all_preds.extend(y_pred)\n",
    "        all_true.extend(y_val)\n",
    "        all_meta.append(meta_val)\n",
    "\n",
    "        # Clean up memory\n",
    "        del model\n",
    "        gc.collect()\n",
    "\n",
    "    # Compute evaluation metrics\n",
    "    precision = precision_score(all_true, all_preds)\n",
    "    recall = recall_score(all_true, all_preds)\n",
    "    f1 = f1_score(all_true, all_preds)\n",
    "\n",
    "    # Calculate global threshold (average across folds)\n",
    "    global_threshold = np.mean(all_best_thresholds)\n",
    "    print(f\"\\n⮕ Global threshold (average from all folds): {global_threshold:.4f}\")\n",
    "\n",
    "    if save_results:\n",
    "        results_df = pd.concat(all_meta).copy()\n",
    "        results_df[\"true_label\"] = all_true\n",
    "        results_df[\"pred_label\"] = all_preds\n",
    "        results_df[\"score\"] = all_probs\n",
    "        timestamp = datetime.now().strftime(\"%Y%m%d_%H%M%S\")\n",
    "        filename = f\"results/model_preds_radius{radius}_{timestamp}.csv\"\n",
    "        results_df.to_csv(filename, index=False)\n",
    "        print(f\"Saved predictions to: {filename}\")\n",
    "\n",
    "    return precision, recall, f1, global_threshold"
   ]
  },
  {
   "cell_type": "code",
   "execution_count": null,
   "id": "febce634-aa32-4d7e-86db-ca739c792e4e",
   "metadata": {},
   "outputs": [
    {
     "name": "stderr",
     "output_type": "stream",
     "text": [
      "/tmp/ipykernel_13849/4175275608.py:17: DeprecationWarning: DataFrameGroupBy.apply operated on the grouping columns. This behavior is deprecated, and in a future version of pandas the grouping columns will be excluded from the operation. Either pass `include_groups=False` to exclude the groupings or explicitly select the grouping columns after groupby to silence this warning.\n",
      "  df = df.groupby(\"series_id\", group_keys=False).apply(expand_group)\n"
     ]
    },
    {
     "name": "stdout",
     "output_type": "stream",
     "text": [
      "\n",
      "⮕ Global threshold (average from all folds): 0.9127\n",
      "Saved predictions to: results/model_preds_radius12_20250429_140838.csv\n",
      "[base] radius=12 | best threshold=0.91 | n_estimators=300 | max_depth=4 | lr=0.050 | spw=10 → Precision=0.037, Recall= 0.850, F1=0.070\n"
     ]
    },
    {
     "name": "stderr",
     "output_type": "stream",
     "text": [
      "/tmp/ipykernel_13849/4175275608.py:17: DeprecationWarning: DataFrameGroupBy.apply operated on the grouping columns. This behavior is deprecated, and in a future version of pandas the grouping columns will be excluded from the operation. Either pass `include_groups=False` to exclude the groupings or explicitly select the grouping columns after groupby to silence this warning.\n",
      "  df = df.groupby(\"series_id\", group_keys=False).apply(expand_group)\n"
     ]
    },
    {
     "name": "stdout",
     "output_type": "stream",
     "text": [
      "\n",
      "⮕ Global threshold (average from all folds): 0.9895\n",
      "Saved predictions to: results/model_preds_radius12_20250429_141134.csv\n",
      "[base] radius=12 | best threshold=0.99 | n_estimators=300 | max_depth=4 | lr=0.050 | spw=100 → Precision=0.035, Recall= 0.850, F1=0.068\n"
     ]
    },
    {
     "name": "stderr",
     "output_type": "stream",
     "text": [
      "/tmp/ipykernel_13849/4175275608.py:17: DeprecationWarning: DataFrameGroupBy.apply operated on the grouping columns. This behavior is deprecated, and in a future version of pandas the grouping columns will be excluded from the operation. Either pass `include_groups=False` to exclude the groupings or explicitly select the grouping columns after groupby to silence this warning.\n",
      "  df = df.groupby(\"series_id\", group_keys=False).apply(expand_group)\n"
     ]
    },
    {
     "name": "stdout",
     "output_type": "stream",
     "text": [
      "\n",
      "⮕ Global threshold (average from all folds): 0.9195\n",
      "Saved predictions to: results/model_preds_radius12_20250429_141438.csv\n",
      "[base] radius=12 | best threshold=0.92 | n_estimators=300 | max_depth=4 | lr=0.020 | spw=10 → Precision=0.035, Recall= 0.850, F1=0.068\n"
     ]
    },
    {
     "name": "stderr",
     "output_type": "stream",
     "text": [
      "/tmp/ipykernel_13849/4175275608.py:17: DeprecationWarning: DataFrameGroupBy.apply operated on the grouping columns. This behavior is deprecated, and in a future version of pandas the grouping columns will be excluded from the operation. Either pass `include_groups=False` to exclude the groupings or explicitly select the grouping columns after groupby to silence this warning.\n",
      "  df = df.groupby(\"series_id\", group_keys=False).apply(expand_group)\n"
     ]
    },
    {
     "name": "stdout",
     "output_type": "stream",
     "text": [
      "\n",
      "⮕ Global threshold (average from all folds): 0.9905\n",
      "Saved predictions to: results/model_preds_radius12_20250429_141738.csv\n",
      "[base] radius=12 | best threshold=0.99 | n_estimators=300 | max_depth=4 | lr=0.020 | spw=100 → Precision=0.034, Recall= 0.850, F1=0.065\n"
     ]
    },
    {
     "name": "stderr",
     "output_type": "stream",
     "text": [
      "/tmp/ipykernel_13849/4175275608.py:17: DeprecationWarning: DataFrameGroupBy.apply operated on the grouping columns. This behavior is deprecated, and in a future version of pandas the grouping columns will be excluded from the operation. Either pass `include_groups=False` to exclude the groupings or explicitly select the grouping columns after groupby to silence this warning.\n",
      "  df = df.groupby(\"series_id\", group_keys=False).apply(expand_group)\n"
     ]
    },
    {
     "name": "stdout",
     "output_type": "stream",
     "text": [
      "\n",
      "⮕ Global threshold (average from all folds): 0.9045\n",
      "Saved predictions to: results/model_preds_radius12_20250429_142030.csv\n",
      "[base] radius=12 | best threshold=0.90 | n_estimators=300 | max_depth=4 | lr=0.005 | spw=10 → Precision=0.029, Recall= 0.851, F1=0.055\n"
     ]
    },
    {
     "name": "stderr",
     "output_type": "stream",
     "text": [
      "/tmp/ipykernel_13849/4175275608.py:17: DeprecationWarning: DataFrameGroupBy.apply operated on the grouping columns. This behavior is deprecated, and in a future version of pandas the grouping columns will be excluded from the operation. Either pass `include_groups=False` to exclude the groupings or explicitly select the grouping columns after groupby to silence this warning.\n",
      "  df = df.groupby(\"series_id\", group_keys=False).apply(expand_group)\n"
     ]
    },
    {
     "name": "stdout",
     "output_type": "stream",
     "text": [
      "\n",
      "⮕ Global threshold (average from all folds): 0.9671\n",
      "Saved predictions to: results/model_preds_radius12_20250429_142320.csv\n",
      "[base] radius=12 | best threshold=0.97 | n_estimators=300 | max_depth=4 | lr=0.005 | spw=100 → Precision=0.022, Recall= 0.856, F1=0.043\n"
     ]
    },
    {
     "name": "stderr",
     "output_type": "stream",
     "text": [
      "/tmp/ipykernel_13849/4175275608.py:17: DeprecationWarning: DataFrameGroupBy.apply operated on the grouping columns. This behavior is deprecated, and in a future version of pandas the grouping columns will be excluded from the operation. Either pass `include_groups=False` to exclude the groupings or explicitly select the grouping columns after groupby to silence this warning.\n",
      "  df = df.groupby(\"series_id\", group_keys=False).apply(expand_group)\n"
     ]
    },
    {
     "name": "stdout",
     "output_type": "stream",
     "text": [
      "\n",
      "⮕ Global threshold (average from all folds): 0.7019\n",
      "Saved predictions to: results/model_preds_radius12_20250429_142719.csv\n",
      "[base] radius=12 | best threshold=0.70 | n_estimators=300 | max_depth=8 | lr=0.050 | spw=10 → Precision=0.033, Recall= 0.850, F1=0.063\n"
     ]
    },
    {
     "name": "stderr",
     "output_type": "stream",
     "text": [
      "/tmp/ipykernel_13849/4175275608.py:17: DeprecationWarning: DataFrameGroupBy.apply operated on the grouping columns. This behavior is deprecated, and in a future version of pandas the grouping columns will be excluded from the operation. Either pass `include_groups=False` to exclude the groupings or explicitly select the grouping columns after groupby to silence this warning.\n",
      "  df = df.groupby(\"series_id\", group_keys=False).apply(expand_group)\n"
     ]
    },
    {
     "name": "stdout",
     "output_type": "stream",
     "text": [
      "\n",
      "⮕ Global threshold (average from all folds): 0.8900\n",
      "Saved predictions to: results/model_preds_radius12_20250429_143119.csv\n",
      "[base] radius=12 | best threshold=0.89 | n_estimators=300 | max_depth=8 | lr=0.050 | spw=100 → Precision=0.030, Recall= 0.850, F1=0.057\n"
     ]
    },
    {
     "name": "stderr",
     "output_type": "stream",
     "text": [
      "/tmp/ipykernel_13849/4175275608.py:17: DeprecationWarning: DataFrameGroupBy.apply operated on the grouping columns. This behavior is deprecated, and in a future version of pandas the grouping columns will be excluded from the operation. Either pass `include_groups=False` to exclude the groupings or explicitly select the grouping columns after groupby to silence this warning.\n",
      "  df = df.groupby(\"series_id\", group_keys=False).apply(expand_group)\n"
     ]
    },
    {
     "name": "stdout",
     "output_type": "stream",
     "text": [
      "\n",
      "⮕ Global threshold (average from all folds): 0.8457\n",
      "Saved predictions to: results/model_preds_radius12_20250429_143517.csv\n",
      "[base] radius=12 | best threshold=0.85 | n_estimators=300 | max_depth=8 | lr=0.020 | spw=10 → Precision=0.035, Recall= 0.850, F1=0.067\n"
     ]
    },
    {
     "name": "stderr",
     "output_type": "stream",
     "text": [
      "/tmp/ipykernel_13849/4175275608.py:17: DeprecationWarning: DataFrameGroupBy.apply operated on the grouping columns. This behavior is deprecated, and in a future version of pandas the grouping columns will be excluded from the operation. Either pass `include_groups=False` to exclude the groupings or explicitly select the grouping columns after groupby to silence this warning.\n",
      "  df = df.groupby(\"series_id\", group_keys=False).apply(expand_group)\n"
     ]
    },
    {
     "name": "stdout",
     "output_type": "stream",
     "text": [
      "\n",
      "⮕ Global threshold (average from all folds): 0.9686\n",
      "Saved predictions to: results/model_preds_radius12_20250429_143927.csv\n",
      "[base] radius=12 | best threshold=0.97 | n_estimators=300 | max_depth=8 | lr=0.020 | spw=100 → Precision=0.031, Recall= 0.850, F1=0.061\n"
     ]
    },
    {
     "name": "stderr",
     "output_type": "stream",
     "text": [
      "/tmp/ipykernel_13849/4175275608.py:17: DeprecationWarning: DataFrameGroupBy.apply operated on the grouping columns. This behavior is deprecated, and in a future version of pandas the grouping columns will be excluded from the operation. Either pass `include_groups=False` to exclude the groupings or explicitly select the grouping columns after groupby to silence this warning.\n",
      "  df = df.groupby(\"series_id\", group_keys=False).apply(expand_group)\n"
     ]
    },
    {
     "name": "stdout",
     "output_type": "stream",
     "text": [
      "\n",
      "⮕ Global threshold (average from all folds): 0.8764\n",
      "Saved predictions to: results/model_preds_radius12_20250429_144329.csv\n",
      "[base] radius=12 | best threshold=0.88 | n_estimators=300 | max_depth=8 | lr=0.005 | spw=10 → Precision=0.033, Recall= 0.850, F1=0.064\n"
     ]
    },
    {
     "name": "stderr",
     "output_type": "stream",
     "text": [
      "/tmp/ipykernel_13849/4175275608.py:17: DeprecationWarning: DataFrameGroupBy.apply operated on the grouping columns. This behavior is deprecated, and in a future version of pandas the grouping columns will be excluded from the operation. Either pass `include_groups=False` to exclude the groupings or explicitly select the grouping columns after groupby to silence this warning.\n",
      "  df = df.groupby(\"series_id\", group_keys=False).apply(expand_group)\n"
     ]
    },
    {
     "name": "stdout",
     "output_type": "stream",
     "text": [
      "\n",
      "⮕ Global threshold (average from all folds): 0.9634\n",
      "Saved predictions to: results/model_preds_radius12_20250429_144722.csv\n",
      "[base] radius=12 | best threshold=0.96 | n_estimators=300 | max_depth=8 | lr=0.005 | spw=100 → Precision=0.030, Recall= 0.850, F1=0.057\n"
     ]
    },
    {
     "name": "stderr",
     "output_type": "stream",
     "text": [
      "/tmp/ipykernel_13849/4175275608.py:17: DeprecationWarning: DataFrameGroupBy.apply operated on the grouping columns. This behavior is deprecated, and in a future version of pandas the grouping columns will be excluded from the operation. Either pass `include_groups=False` to exclude the groupings or explicitly select the grouping columns after groupby to silence this warning.\n",
      "  df = df.groupby(\"series_id\", group_keys=False).apply(expand_group)\n"
     ]
    },
    {
     "name": "stdout",
     "output_type": "stream",
     "text": [
      "\n",
      "⮕ Global threshold (average from all folds): 0.8892\n",
      "Saved predictions to: results/model_preds_radius12_20250429_145236.csv\n",
      "[base] radius=12 | best threshold=0.89 | n_estimators=800 | max_depth=4 | lr=0.050 | spw=10 → Precision=0.037, Recall= 0.850, F1=0.070\n"
     ]
    },
    {
     "name": "stderr",
     "output_type": "stream",
     "text": [
      "/tmp/ipykernel_13849/4175275608.py:17: DeprecationWarning: DataFrameGroupBy.apply operated on the grouping columns. This behavior is deprecated, and in a future version of pandas the grouping columns will be excluded from the operation. Either pass `include_groups=False` to exclude the groupings or explicitly select the grouping columns after groupby to silence this warning.\n",
      "  df = df.groupby(\"series_id\", group_keys=False).apply(expand_group)\n"
     ]
    },
    {
     "name": "stdout",
     "output_type": "stream",
     "text": [
      "\n",
      "⮕ Global threshold (average from all folds): 0.9839\n",
      "Saved predictions to: results/model_preds_radius12_20250429_145737.csv\n",
      "[base] radius=12 | best threshold=0.98 | n_estimators=800 | max_depth=4 | lr=0.050 | spw=100 → Precision=0.034, Recall= 0.850, F1=0.066\n"
     ]
    },
    {
     "name": "stderr",
     "output_type": "stream",
     "text": [
      "/tmp/ipykernel_13849/4175275608.py:17: DeprecationWarning: DataFrameGroupBy.apply operated on the grouping columns. This behavior is deprecated, and in a future version of pandas the grouping columns will be excluded from the operation. Either pass `include_groups=False` to exclude the groupings or explicitly select the grouping columns after groupby to silence this warning.\n",
      "  df = df.groupby(\"series_id\", group_keys=False).apply(expand_group)\n"
     ]
    }
   ],
   "source": [
    "feature_sets = {\n",
    "    \"base\": final_preset\n",
    "}\n",
    "\n",
    "radii = [12, 30, 50]\n",
    "n_estimators_list = [300, 800, 1500]\n",
    "max_depth_list = [4, 8]\n",
    "learning_rate_list = [0.05, 0.02, 0.005]\n",
    "scale_pos_weight_list = [10, 100]\n",
    "\n",
    "best_results = {}  # Store best results for each radius\n",
    "\n",
    "for name, feats in feature_sets.items():\n",
    "    for r in radii:\n",
    "        best_precision = -1  \n",
    "        best_entry = None\n",
    "\n",
    "        for n_estimators in n_estimators_list:\n",
    "            for max_depth in max_depth_list:\n",
    "                for learning_rate in learning_rate_list:\n",
    "                    for scale_pos_weight in scale_pos_weight_list:\n",
    "                        model_params = {\n",
    "                            \"objective\": \"binary:logistic\",\n",
    "                            \"n_estimators\": n_estimators,\n",
    "                            \"max_depth\": max_depth,\n",
    "                            \"learning_rate\": learning_rate,\n",
    "                            \"eval_metric\": \"logloss\",\n",
    "                            \"tree_method\": \"hist\",\n",
    "                            \"scale_pos_weight\": scale_pos_weight,\n",
    "                            \"subsample\": 0.8,\n",
    "                            \"colsample_bytree\": 0.8,\n",
    "                            \"gamma\": 1,\n",
    "                            \"min_child_weight\": 5,\n",
    "                            \"random_state\": 42,\n",
    "                        }\n",
    "\n",
    "                        # IMPORTANT: run_experiment_simple no longer expects a threshold input\n",
    "                        p, r_, f, best_threshold = run_experiment_simple(\n",
    "                            feats,\n",
    "                            radius=r,\n",
    "                            model_params=model_params\n",
    "                        )\n",
    "\n",
    "                        print(f\"[{name}] radius={r} | best threshold={best_threshold:.2f} | \"\n",
    "                              f\"n_estimators={n_estimators} | max_depth={max_depth} | \"\n",
    "                              f\"lr={learning_rate:.3f} | spw={scale_pos_weight} → \"\n",
    "                              f\"Precision={p:.3f}, Recall={r_: .3f}, F1={f:.3f}\")\n",
    "\n",
    "                        # Save if precision is the best so far for this radius\n",
    "                        if p > best_precision:\n",
    "                            best_precision = p\n",
    "                            best_entry = {\n",
    "                                \"radius\": r,\n",
    "                                \"threshold\": best_threshold,\n",
    "                                \"n_estimators\": n_estimators,\n",
    "                                \"max_depth\": max_depth,\n",
    "                                \"learning_rate\": learning_rate,\n",
    "                                \"scale_pos_weight\": scale_pos_weight,\n",
    "                                \"precision\": p,\n",
    "                                \"recall\": r_,\n",
    "                                \"f1\": f\n",
    "                            }\n",
    "\n",
    "        # After all parameter combinations for a given radius\n",
    "        best_results[r] = best_entry\n",
    "\n",
    "# Print summary of best configurations per radius\n",
    "print(\"\\n🏆 Best results per radius:\")\n",
    "for radius, result in best_results.items():\n",
    "    print(f\"Radius {radius}: \"\n",
    "          f\"Precision={result['precision']:.3f}, Recall={result['recall']:.3f}, F1={result['f1']:.3f} | \"\n",
    "          f\"Params: best_threshold={result['threshold']:.2f}, \"\n",
    "          f\"n_estimators={result['n_estimators']}, max_depth={result['max_depth']}, \"\n",
    "          f\"lr={result['learning_rate']:.3f}, spw={result['scale_pos_weight']}\")"
   ]
  },
  {
   "cell_type": "code",
   "execution_count": null,
   "id": "7fd16ccf-134e-4390-8dea-ea7246ac0b67",
   "metadata": {},
   "outputs": [],
   "source": []
  },
  {
   "cell_type": "code",
   "execution_count": null,
   "id": "5d832b4c-40d0-44d2-b0ef-a367db0f0f98",
   "metadata": {},
   "outputs": [],
   "source": []
  }
 ],
 "metadata": {
  "kernelspec": {
   "display_name": "Python 3 (ipykernel)",
   "language": "python",
   "name": "python3"
  },
  "language_info": {
   "codemirror_mode": {
    "name": "ipython",
    "version": 3
   },
   "file_extension": ".py",
   "mimetype": "text/x-python",
   "name": "python",
   "nbconvert_exporter": "python",
   "pygments_lexer": "ipython3",
   "version": "3.12.9"
  }
 },
 "nbformat": 4,
 "nbformat_minor": 5
}
